{
 "cells": [
  {
   "cell_type": "markdown",
   "metadata": {},
   "source": [
    "For this course, we're going to work with some of my favorite reads:\n",
    "\n",
    " - The Almanack of Naval Ravikant\n",
    " - The Anthology of Balaji\n",
    " - The Tao of Seneca, Volumes 1 - 3\n",
    " - Skin in the Game\n",
    " - Hackers and Painters\n",
    " - Striking Thoughts\n",
    " \n",
    "These books are freely available online. Let's download them."
   ]
  },
  {
   "cell_type": "code",
   "execution_count": 2,
   "metadata": {},
   "outputs": [],
   "source": [
    "import requests\n",
    "from pathlib import Path\n",
    "\n",
    "def download_file(url: str, filename: str) -> None:\n",
    "    \"\"\"\n",
    "    Download a file from a URL and save it to a specified location.\n",
    "\n",
    "    Parameters:\n",
    "    url (str): The URL of the file to download.\n",
    "    filename (str): The name to save the file as.\n",
    "\n",
    "    Returns:\n",
    "    None\n",
    "    \"\"\"\n",
    "    # Construct the destination path\n",
    "    destination = Path('../data') / filename\n",
    "    destination.parent.mkdir(parents=True, exist_ok=True)  # Ensure the directory exists\n",
    "\n",
    "    response = requests.get(url)\n",
    "    response.raise_for_status()  # Raise an exception if the request was unsuccessful\n",
    "\n",
    "    with open(destination, 'wb') as f:\n",
    "        f.write(response.content)\n",
    "\n",
    "    print(f\"File downloaded successfully to {destination}\")"
   ]
  },
  {
   "cell_type": "markdown",
   "metadata": {},
   "source": [
    "# Almanack of Naval Ravikant\n",
    "\n",
    "This book is a collection of Naval Ravikant's wisdom from his Twitter, Podcasts, and Essays that spans over the past decade. \n",
    "\n",
    "Created and edited by Eric Jorgenson, with illustrations by Jack Butcher, and a Foreword by Tim Ferriss, this book is a treasure trove of wisdom. \n",
    "\n",
    "The entire book, along with bonus content, is available to read for [free on the website](https://www.navalmanack.com/). There is also a freely available audio version of the book [as a podcast](https://kite.link/NavalBWtwitter). You can also download the complete pdf and e-reader versions for free. This project is run on donations and is a public service. It is worth noting that Naval does not earn any money from this project. \n",
    "\n",
    "If you would like to connect with Naval, you can find him on Nav.al, and on Twitter under the username @Naval."
   ]
  },
  {
   "cell_type": "code",
   "execution_count": 3,
   "metadata": {},
   "outputs": [
    {
     "name": "stdout",
     "output_type": "stream",
     "text": [
      "File downloaded successfully to ../data/almanack_of_naval_ravikant.pdf\n"
     ]
    }
   ],
   "source": [
    "navalmanack_url = \"https://navalmanack.s3.amazonaws.com/Eric-Jorgenson_The-Almanack-of-Naval-Ravikant_Final.pdf\"\n",
    "\n",
    "download_file(navalmanack_url, \"almanack_of_naval_ravikant.pdf\")"
   ]
  },
  {
   "cell_type": "markdown",
   "metadata": {},
   "source": [
    "# Anthology Of Balaji\n",
    "\n",
    "Balaji Srinivasan is a successful entrepreneur, investor, and futurist who has a unique perspective on identifying breakthrough technologies and opportunities to build something great. \n",
    "\n",
    "Imagine having the opportunity to sit with him and learn from his biggest ideas. [This is what the book \"A Guide to Technology, Truth, and Building the Future\" offers](https://balajianthology.s3.us-east-2.amazonaws.com/The+Anthology+of+Balaji.pdf). It compiles the most useful and timeless ideas from Balaji's tweets, podcasts, and essays throughout his entire career. The book is a guide to help you think for yourself, explore possible futures, and learn how to build a piece of the future. \n",
    "\n",
    "This book is compiled and freely available courtosey of Eric Jorgenson, the same author as Almanack of Naval Raviant."
   ]
  },
  {
   "cell_type": "code",
   "execution_count": 4,
   "metadata": {},
   "outputs": [
    {
     "name": "stdout",
     "output_type": "stream",
     "text": [
      "File downloaded successfully to ../data/anthology_of_balaji.pdf\n"
     ]
    }
   ],
   "source": [
    "balaji_url = \"https://balajianthology.s3.us-east-2.amazonaws.com/The+Anthology+of+Balaji.pdf\"\n",
    "\n",
    "download_file(balaji_url, \"anthology_of_balaji.pdf\")"
   ]
  },
  {
   "cell_type": "markdown",
   "metadata": {},
   "source": [
    "# The Tao of Seneca\n",
    "\n",
    "The Tao of Seneca is a modern translatio of the Stoic philosopher Seneca's Letter's to Lucilius. This is commonly known as Letters from a Stoic\n",
    "\n",
    "\"Letters from a Stoic\" is a collection of 124 letters that Seneca sent to his friend Lucilius, containing advice on how to become a better Stoic. Scholars hypothesize that the letters were essays meant to be published. They have been translated many times since Thomas Lodge's 1614 translation. The book contains key lessons about Stoicism, such as making the most of what we have in the time we have.\n",
    "\n",
    "All three volumes are made freely available [courtesy of Tim Ferriss](https://tim.blog/2017/07/06/tao-of-seneca/)."
   ]
  },
  {
   "cell_type": "code",
   "execution_count": 5,
   "metadata": {},
   "outputs": [
    {
     "name": "stdout",
     "output_type": "stream",
     "text": [
      "File downloaded successfully to ../data/taoofseneca_vol1-1.pdf\n",
      "File downloaded successfully to ../data/taoofseneca_vol2.pdf\n",
      "File downloaded successfully to ../data/taoofseneca_vol3.pdf\n"
     ]
    }
   ],
   "source": [
    "# List of URLs to download\n",
    "letters_urls = [\n",
    "    \"https://tim.blog/wp-content/uploads/2017/07/taoofseneca_vol1-1.pdf\",\n",
    "    \"https://tim.blog/wp-content/uploads/2017/07/taoofseneca_vol2.pdf\",\n",
    "    \"https://tim.blog/wp-content/uploads/2017/07/taoofseneca_vol3.pdf\",\n",
    "]\n",
    "\n",
    "# Loop over the URLs and download each file\n",
    "for url in letters_urls:\n",
    "    filename = Path(url).name  # Extract the filename from the URL\n",
    "    download_file(url, filename)"
   ]
  },
  {
   "cell_type": "markdown",
   "metadata": {},
   "source": [
    "# Skin in the Game\n",
    "\n",
    "\"Skin in the Game\" is a nonfiction book by Nassim Nicholas Taleb. It challenges conventional thinking on decision-making, accountability, and risk-taking. The book emphasizes the importance of having personal stakes in the game and provides a fresh perspective on how to make better decisions in daily life.\n",
    "\n",
    "A pdf copy of this book has been made available since [2018 on the Philosophia blog](https://philosophiatopics.wordpress.com/category/uncategorized/)"
   ]
  },
  {
   "cell_type": "code",
   "execution_count": 6,
   "metadata": {},
   "outputs": [
    {
     "name": "stdout",
     "output_type": "stream",
     "text": [
      "File downloaded successfully to ../data/skin_in_the_game.pdf\n"
     ]
    }
   ],
   "source": [
    "skin_in_the_game_url = \"https://philosophiatopics.files.wordpress.com/2018/10/skin-in-the-game-nassim-nicholas-taleb.pdf\"\n",
    "\n",
    "download_file(skin_in_the_game_url, \"skin_in_the_game.pdf\")"
   ]
  },
  {
   "cell_type": "markdown",
   "metadata": {},
   "source": [
    "# Hackers and Painters\n",
    "\n",
    "Hackers and Painters is a collection of essays by Paul Graham that explores the similarities between computer programmers (\"hackers\") and painters/artists. \n",
    "\n",
    "Graham argues that both hackers and painters are makers - creative people trying to build good things and express themselves through their work. The book celebrates the elegance, simplicity and rebellious spirit valued by hackers, drawing parallels to how painters approach their craft. It covers topics like the importance of aesthetics in coding, how to think about creating wealth through startups, principles of good programming language design, and the hacker work ethic and mindset. Graham portrays hackers as makers obsessed with creating beautiful, well-designed software, similar to how painters are devoted to creating beautiful art. \n",
    "\n",
    "The book aims to shed light on the hacker psyche and culture, while making a case for why programming can be considered an art form akin to painting. "
   ]
  },
  {
   "cell_type": "code",
   "execution_count": 7,
   "metadata": {},
   "outputs": [
    {
     "name": "stdout",
     "output_type": "stream",
     "text": [
      "File downloaded successfully to ../data/hackers_and_painters.pdf\n"
     ]
    }
   ],
   "source": [
    "hackers_url = \"https://digtvbg.com/files/books-for-hacking/Hackers%20%26%20Painters%20-%20Big%20Ideas%20From%20The%20Computer%20Age%20by%20Paul%20Graham.pdf\"\n",
    "\n",
    "download_file(hackers_url, \"hackers_and_painters.pdf\")"
   ]
  },
  {
   "cell_type": "markdown",
   "metadata": {},
   "source": [
    "## Striking Thoughts\n",
    "\n",
    "Striking Thoughts is a collection of Bruce Lee's personal writings, offering insights into his philosophy on life, martial arts, and personal development.  It's not a structured guide, but rather a glimpse into Lee's mind through notes, poems, and philosophical reflections. \n",
    "\n",
    "Lee's writings blend Eastern philosophies like Taoism and Zen with Western ideas, creating a unique perspective on life. He explores themes like the balance of opposites, the flow of energy, and the importance of living in the present moment. Beyond martial arts, the book offers valuable life lessons applicable to anyone. Lee's thoughts on facing challenges, embracing change, and finding your purpose resonate deeply with readers seeking personal growth."
   ]
  },
  {
   "cell_type": "code",
   "execution_count": 8,
   "metadata": {},
   "outputs": [
    {
     "name": "stdout",
     "output_type": "stream",
     "text": [
      "File downloaded successfully to ../data/striking-thoughts.pdf\n"
     ]
    }
   ],
   "source": [
    "striking_thoughts = \"https://eddierockerz.com/wp-content/uploads/2020/11/striking-thoughts_-bruce-lees-wisdom-for-daily-living-pdfdrive.com-.pdf\"\n",
    "download_file(url= striking_thoughts, filename= \"striking-thoughts.pdf\")"
   ]
  }
 ],
 "metadata": {
  "kernelspec": {
   "display_name": "Python 3",
   "language": "python",
   "name": "python3"
  },
  "language_info": {
   "codemirror_mode": {
    "name": "ipython",
    "version": 3
   },
   "file_extension": ".py",
   "mimetype": "text/x-python",
   "name": "python",
   "nbconvert_exporter": "python",
   "pygments_lexer": "ipython3",
   "version": "3.10.14"
  }
 },
 "nbformat": 4,
 "nbformat_minor": 2
}
