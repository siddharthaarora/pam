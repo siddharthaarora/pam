{
 "cells": [
  {
   "cell_type": "code",
   "execution_count": null,
   "metadata": {},
   "outputs": [],
   "source": [
    "%%capture\n",
    "!pip install llama-index==0.10.37 cohere==5.5.0 openai==1.30.1 llama-index-embeddings-openai==0.1.9 llama-index-llms-cohere==0.2.0 qdrant-client==1.9.1 llama-index-vector-stores-qdrant==0.2.8 "
   ]
  },
  {
   "cell_type": "code",
   "execution_count": 1,
   "metadata": {},
   "outputs": [
    {
     "data": {
      "text/plain": [
       "True"
      ]
     },
     "execution_count": 1,
     "metadata": {},
     "output_type": "execute_result"
    }
   ],
   "source": [
    "import os\n",
    "\n",
    "from getpass import getpass\n",
    "import nest_asyncio\n",
    "\n",
    "from dotenv import load_dotenv\n",
    "\n",
    "nest_asyncio.apply()\n",
    "\n",
    "load_dotenv()"
   ]
  },
  {
   "cell_type": "code",
   "execution_count": 2,
   "metadata": {},
   "outputs": [],
   "source": [
    "CO_API_KEY = os.environ['CO_API_KEY'] or getpass(\"Enter your Cohere API key: \")"
   ]
  },
  {
   "cell_type": "code",
   "execution_count": 3,
   "metadata": {},
   "outputs": [],
   "source": [
    "OPENAI_API_KEY = os.environ['OPENAI_API_KEY'] or getpass(\"Enter your OpenAI API key: \")"
   ]
  },
  {
   "cell_type": "code",
   "execution_count": 4,
   "metadata": {},
   "outputs": [],
   "source": [
    "QDRANT_URL = os.environ['QDRANT_URL'] or getpass(\"Enter your Qdrant URL:\")"
   ]
  },
  {
   "cell_type": "code",
   "execution_count": 5,
   "metadata": {},
   "outputs": [],
   "source": [
    "QDRANT_API_KEY = os.environ['QDRANT_API_KEY'] or  getpass(\"Enter your Qdrant API Key:\")"
   ]
  },
  {
   "cell_type": "markdown",
   "metadata": {},
   "source": [
    "# Querying\n",
    "\n",
    "- 📊 Now that you've loaded your data and built an index, it's time to focus on the core of an LLM application: querying.\n",
    "\n",
    "- 🤖 Querying at its simplest involves making a prompt call to an LLM - this could be asking a question, requesting a summary, or giving more complex instructions.\n",
    "\n",
    "- 🔗 For more advanced uses, querying can include repeated or chained prompt calls to an LLM, or even a reasoning loop across multiple components.\n",
    "\n",
    "Let's first instantiate the `qdrant` vector store."
   ]
  },
  {
   "cell_type": "code",
   "execution_count": 6,
   "metadata": {},
   "outputs": [],
   "source": [
    "import qdrant_client\n",
    "from llama_index.embeddings.openai import OpenAIEmbedding\n",
    "from llama_index.core import VectorStoreIndex\n",
    "from llama_index.vector_stores.qdrant import QdrantVectorStore\n",
    "from llama_index.core import StorageContext\n",
    "\n",
    "embed_model = OpenAIEmbedding(model_name=\"text-embedding-3-small\")\n",
    "\n",
    "# initialize qdrant client\n",
    "client = qdrant_client.QdrantClient(\n",
    "    url=QDRANT_URL, \n",
    "    api_key=QDRANT_API_KEY,\n",
    ")\n",
    "\n",
    "vector_store = QdrantVectorStore(\n",
    "    client=client, \n",
    "    collection_name=\"it_can_be_done\",\n",
    "    embed_model=embed_model,\n",
    ")\n",
    "\n",
    "# assign qdrant vector store to storage context\n",
    "storage_context = StorageContext.from_defaults(\n",
    "    vector_store=vector_store,\n",
    "    )\n",
    "\n",
    "# load your index from stored vectors\n",
    "index = VectorStoreIndex.from_vector_store(\n",
    "    vector_store=vector_store, \n",
    "    embed_model=embed_model,\n",
    "    storage_context=storage_context\n",
    ")"
   ]
  },
  {
   "cell_type": "markdown",
   "metadata": {},
   "source": [
    "# 🧐 The `QueryEngine`\n",
    "\n",
    "A Query Engine is a higher-level construct that uses an `Index` (and by extension, a `Retriever`) to answer queries. \n",
    "\n",
    "It not only retrieves the relevant data but also processes it to generate a response to the query. A `Query Engine` uses the `Retriever` to fetch data and then applies additional logic to generate a response.\n",
    "\n",
    "Here's what happens under the hood:\n",
    "\n",
    "- 📚 **Retrieval**: Find and return the most relevant documents from the `Index` using strategies like \"top-k\" semantic retrieval.\n",
    "\n",
    "- 🔧 **Postprocessing**: Optionally rerank, transform, or filter retrieved Nodes, often based on specific metadata like keywords.\n",
    "\n",
    "- 🔄 **Response Synthesis**: Combine the query, relevant data, and prompt to generate a response from your LLM.\n",
    "\n",
    "Note, there are [a wide variety of Query Engines](https://github.com/run-llama/llama_index/tree/main/llama-index-core/llama_index/core/query_engine) available in LlamaIndex. We won't touch on all of them in this course, but I encourage you to explore what's available and think of how you may be able to use them.\n"
   ]
  },
  {
   "cell_type": "code",
   "execution_count": 7,
   "metadata": {},
   "outputs": [
    {
     "name": "stdout",
     "output_type": "stream",
     "text": [
      "Sorry, I can't find any information about what the Sikh Stoics believe. Can you clarify what you're looking for?"
     ]
    }
   ],
   "source": [
    "from llama_index.llms.cohere import Cohere\n",
    "\n",
    "llm = Cohere(model=\"command-r-plus\")\n",
    "\n",
    "query_engine = index.as_query_engine(llm=llm, streaming=True)\n",
    "\n",
    "response = query_engine.query(\n",
    "    \"What do the Sikh Stoics believe?\"\n",
    ")\n",
    "\n",
    "response.print_response_stream()"
   ]
  },
  {
   "cell_type": "code",
   "execution_count": 11,
   "metadata": {},
   "outputs": [
    {
     "data": {
      "text/plain": [
       "[NodeWithScore(node=TextNode(id_='b9e49bc9-1074-4521-b359-b5a07da3f779', embedding=None, metadata={'file_path': 'data/pg10763.txt', 'file_name': 'pg10763.txt', 'file_type': 'text/plain', 'file_size': 405159, 'creation_date': '2024-05-21', 'last_modified_date': '2024-05-05'}, excluded_embed_metadata_keys=['file_name', 'file_type', 'file_size', 'creation_date', 'last_modified_date', 'last_accessed_date'], excluded_llm_metadata_keys=['file_name', 'file_type', 'file_size', 'creation_date', 'last_modified_date', 'last_accessed_date'], relationships={<NodeRelationship.SOURCE: '1'>: RelatedNodeInfo(node_id='data/pg10763.txt', node_type=<ObjectType.DOCUMENT: '4'>, metadata={'file_path': 'data/pg10763.txt', 'file_name': 'pg10763.txt', 'file_type': 'text/plain', 'file_size': 405159, 'creation_date': '2024-05-21', 'last_modified_date': '2024-05-05'}, hash='ce8443a693c1546f39c6bb0336c4d2f7929dd66c58288850e8b2df75ffa28edb'), <NodeRelationship.PREVIOUS: '2'>: RelatedNodeInfo(node_id='723274c5-5a11-4fa0-b121-83d67484587c', node_type=<ObjectType.TEXT: '1'>, metadata={'file_path': 'data/pg10763.txt', 'file_name': 'pg10763.txt', 'file_type': 'text/plain', 'file_size': 405159, 'creation_date': '2024-05-21', 'last_modified_date': '2024-05-05'}, hash='4ab006c65d17f702d92111f0dd7480ee6284ca8536a50ed553c60863ed3409e6'), <NodeRelationship.NEXT: '3'>: RelatedNodeInfo(node_id='3d22f6df-eb76-4db5-8938-cdd0327dc21f', node_type=<ObjectType.TEXT: '1'>, metadata={}, hash='7af132019e7e819fb9cdff47e83c4c91b9c6438078e9097a68e4dd033e85ff8c')}, text='\"One needs seven souls for this long requiting,\"\\r\\n    He said at length.\\r\\n\\r\\n  \"Six times have I come where my first hope jeered me\\r\\n    And laughed me to scorn;\\r\\n  But now I fear as I never feared me\\r\\n    To fall forsworn.\\r\\n\\r\\n  \"God! when they fight upright and at me\\r\\n    I give them back\\r\\n  Even such blows as theirs that combat me;\\r\\n    But now, alack!\\r\\n\\r\\n  \"They fight with the wiles of fiends escaping\\r\\n    And underhand.\\r\\n  Six times, O God, and my wounds are gaping!\\r\\n    I--reel to stand.\\r\\n\\r\\n  \"Six battles\\' span! By this gasping breath\\r\\n    No pantomime.\\r\\n  Tis all that I can. I am sick unto death.\\r\\n    And--a seventh time?\\r\\n\\r\\n  \"This is beyond all battles\\' soreness!\"\\r\\n    Then his wonder cried;\\r\\n  For Laughter, with shield and steely harness,\\r\\n    Stood up at his side!\\r\\n\\r\\n\\r\\n_William Rose Benét,_\\r\\n\\r\\nFrom \"Merchants from Cathay.\"\\r\\n\\r\\n\\r\\n\\r\\n\\r\\nSUBMISSION\\r\\n\\r\\n\\r\\nThere are times when the right thing to do is to submit. There are times\\r\\nwhen the right thing is to strive, to fight. To put forth one\\'s best\\r\\neffort is itself a reward. But sometimes it brings a material reward\\r\\nalso. The frog that after falling into the churn found that it couldn\\'t\\r\\njump out and wouldn\\'t try, was drowned. The frog that kept leaping in\\r\\nbrave but seemingly hopeless endeavor at last churned the milk, mounted\\r\\nthe butter for a final effort, and escaped.\\r\\n\\r\\n\\r\\n  Submission? They have preached at that so long.\\r\\n  As though the head bowed down would right the wrong,\\r\\n    As though the folded hand, the coward heart\\r\\n  Were saintly signs of souls sublimely strong;\\r\\n    As though the man who acts the waiting part\\r\\n    And but submits, had little wings a-start.\\r\\n  But may I never reach that anguished plight\\r\\n  Where I at last grow weary of the fight.\\r\\n\\r\\n  Submission: \"Wrong of course must ever be\\r\\n  Because it ever was. \\'Tis not for me\\r\\n    To seek a change; to strike the maiden blow.\\r\\n  \\'Tis best to bow the head and not to see;\\r\\n    \\'Tis best to dream, that we need never know\\r\\n    The truth. To turn our eyes away from woe.\"\\r\\n  Perhaps. But ah--I pray for keener sight,\\r\\n  And may I not grow weary of the fight.\\r\\n\\r\\n\\r\\n_Miriam Teichner._\\r\\n\\r\\n\\r\\n\\r\\n\\r\\nA PRAYER\\r\\n\\r\\n\\r\\nGaribaldi, the Italian patriot, said to his men: \"I do not promise you\\r\\nease; I do not promise you comfort. I promise you hardship, weariness,\\r\\nsuffering; but I promise you victory.\"\\r\\n\\r\\n\\r\\n  I do not pray for peace,\\r\\n    Nor ask that on my path\\r\\n  The sounds of war shall shrill no more,\\r\\n    The way be clear of wrath.\\r\\n  But this I beg thee, Lord,\\r\\n    Steel Thou my heart with might,\\r\\n  And in the strife that men call life,\\r\\n    Grant me the strength to fight.\\r\\n\\r\\n  I do not pray for arms,\\r\\n    Nor shield to cover me.\\r\\n  What though I stand with empty hand,\\r\\n    So it be valiantly!\\r\\n  Spare me the coward\\'s fear--\\r\\n    Questioning wrong or right:\\r\\n  Lord, among these mine enemies,\\r\\n    Grant me the strength to fight.\\r\\n\\r\\n  I do not pray that Thou\\r\\n    Keep me from any wound,\\r\\n  Though I fall low from thrust and blow,\\r\\n    Forced fighting to the ground;\\r\\n  But give me wit to hide\\r\\n    My hurt from all men\\'s sight,\\r\\n  And for my need the while I bleed,\\r\\n    Lord, grant me strength to fight.\\r\\n\\r\\n  I do not pray that Thou\\r\\n    Shouldst grant me victory;\\r\\n  Enough to know that from my foe\\r\\n    I have no will to flee.\\r\\n  Beaten and bruised and banned,\\r\\n    Flung like a broken sword,\\r\\n  Grant me this thing for conquering--\\r\\n    Let me die fighting, Lord!\\r\\n\\r\\n\\r\\n_Theodosia Garrison._\\r\\n\\r\\nFrom \"The Earth Cry.\"\\r\\n\\r\\n\\r\\n\\r\\n\\r\\nSTABILITY\\r\\n\\r\\n\\r\\nWhom do we wish for our friends and allies? On whom would we wish to\\r\\ndepend in a time of need? Those who are not the slaves of fortune, but\\r\\nhave made the most of both her buffets and her rewards. Those who\\r\\ncontrol their fears and rash impulses, and do not give way to sudden\\r\\nemotion. Amid confusion and disaster men like these will stand, as\\r\\nJackson did at Bull Run, like a veritable stone wall.', start_char_idx=233825, end_char_idx=237719, text_template='{metadata_str}\\n\\n{content}', metadata_template='{key}: {value}', metadata_seperator='\\n'), score=0.31213582),\n",
       " NodeWithScore(node=TextNode(id_='347eceb8-e11b-46f2-a28c-8c69e908eb8c', embedding=None, metadata={'file_path': 'data/pg10763.txt', 'file_name': 'pg10763.txt', 'file_type': 'text/plain', 'file_size': 405159, 'creation_date': '2024-05-21', 'last_modified_date': '2024-05-05'}, excluded_embed_metadata_keys=['file_name', 'file_type', 'file_size', 'creation_date', 'last_modified_date', 'last_accessed_date'], excluded_llm_metadata_keys=['file_name', 'file_type', 'file_size', 'creation_date', 'last_modified_date', 'last_accessed_date'], relationships={<NodeRelationship.SOURCE: '1'>: RelatedNodeInfo(node_id='data/pg10763.txt', node_type=<ObjectType.DOCUMENT: '4'>, metadata={'file_path': 'data/pg10763.txt', 'file_name': 'pg10763.txt', 'file_type': 'text/plain', 'file_size': 405159, 'creation_date': '2024-05-21', 'last_modified_date': '2024-05-05'}, hash='ce8443a693c1546f39c6bb0336c4d2f7929dd66c58288850e8b2df75ffa28edb'), <NodeRelationship.PREVIOUS: '2'>: RelatedNodeInfo(node_id='f9342482-7d58-4b5d-b1bc-86379a67b6d1', node_type=<ObjectType.TEXT: '1'>, metadata={'file_path': 'data/pg10763.txt', 'file_name': 'pg10763.txt', 'file_type': 'text/plain', 'file_size': 405159, 'creation_date': '2024-05-21', 'last_modified_date': '2024-05-05'}, hash='860fd9d711046028e771596709af77223da9dd07ff022bd378247f685a248c64'), <NodeRelationship.NEXT: '3'>: RelatedNodeInfo(node_id='5d468f66-fd8e-46c3-8fa5-49458c1dd818', node_type=<ObjectType.TEXT: '1'>, metadata={}, hash='8fc0475c99ee95a72caee6db482ff19c98745aadb10c76682c6de9a1edf48836')}, text='When God at first made Man,\\r\\n  Having a glass of blessings standing by;\\r\\n  Let us (said He) pour on him all we can:\\r\\n  Let the world\\'s riches, which disperséd lie,\\r\\n    Contract into a span.\\r\\n\\r\\n    So strength first made a way;\\r\\n  Then beauty flow\\'d, then wisdom, honor, pleasure\\r\\n  When almost all was out, God made a stay,\\r\\n  Perceiving that alone, of all His treasure,\\r\\n    Rest in the bottom lay.\\r\\n\\r\\n    For if I should (said He)\\r\\n  Bestow this jewel also on My creature,\\r\\n  He would adore My gifts instead of Me,\\r\\n  And rest in Nature, not the God of Nature.\\r\\n    So both should losers be.\\r\\n\\r\\n    Yet let him keep the rest,\\r\\n  But keep them with repining restlessness:\\r\\n  Let him be rich and weary, that at least,\\r\\n  If goodness lead him not, yet weariness\\r\\n    May toss him to My breast.\\r\\n\\r\\n\\r\\n_George Herbert._\\r\\n\\r\\n\\r\\n\\r\\n\\r\\nA PHILOSOPHER\\r\\n\\r\\n\\r\\n\"The web of our life is of mingled yarn, good and ill together,\" says\\r\\nShakespeare. It behooves us therefore to find the good and to make the\\r\\nbest of the ill. Two men were falling from an aeroplane. \"I\\'ll bet you\\r\\nfive dollars,\" said one, \"that I hit the ground first.\"\\r\\n\\r\\n\\r\\n    To take things as they be--\\r\\n    Thet\\'s my philosophy.\\r\\n  No use to holler, mope, or cuss--\\r\\n  If they was changed they might be wuss.\\r\\n\\r\\n    If rain is pourin\\' down,\\r\\n    An\\' lightnin\\' buzzin\\' roun\\',\\r\\n  I ain\\'t a-fearin\\' we\\'ll be hit,\\r\\n  But grin thet I ain\\'t out in it.\\r\\n\\r\\n    If I got deep in debt--\\r\\n    It hasn\\'t happened yet--\\r\\n  And owed a man two dollars, Gee!\\r\\n  Why I\\'d be glad it wasn\\'t three.\\r\\n\\r\\n    If some one come along,\\r\\n    And tried to do me wrong,\\r\\n  Why I should sort of take a whim\\r\\n  To thank the Lord I wasn\\'t him.\\r\\n\\r\\n    I never seen a night\\r\\n    So dark there wasn\\'t light\\r\\n  Somewheres about if I took care\\r\\n  To strike a match and find out where.\\r\\n\\r\\n\\r\\n_John Kendrick Bangs._\\r\\n\\r\\nFrom \"Songs of Cheer.\"\\r\\n\\r\\n\\r\\n\\r\\n\\r\\nTHE LIFE WITHOUT PASSION\\r\\n\\r\\n\\r\\nA person may feel deeply without shouting his emotion to the skies, or\\r\\nbe strong without seizing occasions to exhibit his strength. In truth we\\r\\ndistrust the power which makes too much a display of itself. Let it\\r\\nexert itself only to the point of securing the ends that are really\\r\\nnecessary. Restraint, self-control are in truth more mighty than might\\r\\nunshackled, just as a self-possessed opponent is more dangerous than a\\r\\nfrenzied one. Moreover, there is a moral side to the question. A good\\r\\nquality, if abused or allowed free sway, becomes a force for evil and\\r\\ndoes its owner more harm than if he had not possessed it in the first\\r\\nplace.\\r\\n\\r\\n\\r\\n  They that have power to hurt, and will do none,\\r\\n  That do not do the thing they most do show,\\r\\n  Who, moving others, are themselves as stone,\\r\\n  Unmoved, cold, and to temptation slow,--\\r\\n\\r\\n  They rightly do inherit heaven\\'s graces,\\r\\n  And husband nature\\'s riches from expense;\\r\\n  They are the lords and owners of their faces,\\r\\n  Others, but stewards of their excellence.\\r\\n\\r\\n  The summer\\'s flower is to the summer sweet,\\r\\n  Though to itself it only live and die;\\r\\n  But if that flower with base infection meet,\\r\\n  The basest weed outbraves his dignity:\\r\\n\\r\\n  For sweetest things turn sourest by their deeds;\\r\\n  Lilies that fester smell far worse than weeds.\\r\\n\\r\\n\\r\\n_William Shakespeare._\\r\\n\\r\\n\\r\\n\\r\\n\\r\\nCHARACTER OF A HAPPY LIFE\\r\\n\\r\\n\\r\\n\"I\\'d rather be right than President,\" said Henry Clay. It is to men who\\r\\nare animated by this spirit that the greatest satisfaction in life\\r\\ncomes. For true blessedness does not lie far off and above us. It is\\r\\nclose at hand. Booker T. Washington once told a story of a ship that had\\r\\nexhausted its supply of fresh water and signaled its need to a passing\\r\\nvessel. The reply was, \"Send down your buckets where you are.\" Thinking\\r\\nthere was some misunderstanding, the captain repeated his signal, only\\r\\nto be answered as before. This time he did as he was bidden and secured\\r\\nan abundance of fresh water. His ship was opposite the mouth of a mighty\\r\\nriver which still kept its current unmingled with the waters of the\\r\\nocean.', start_char_idx=310360, end_char_idx=314356, text_template='{metadata_str}\\n\\n{content}', metadata_template='{key}: {value}', metadata_seperator='\\n'), score=0.30151513)]"
      ]
     },
     "execution_count": 11,
     "metadata": {},
     "output_type": "execute_result"
    }
   ],
   "source": [
    "response.source_nodes"
   ]
  },
  {
   "cell_type": "code",
   "execution_count": 12,
   "metadata": {},
   "outputs": [
    {
     "data": {
      "text/plain": [
       "'\"One needs seven souls for this long requiting,\"\\r\\n    He said at length.\\r\\n\\r\\n  \"Six times have I come where my first hope jeered me\\r\\n    And laughed me to scorn;\\r\\n  But now I fear as I never feared me\\r\\n    To fall forsworn.\\r\\n\\r\\n  \"God! when they fight upright and at me\\r\\n    I give them back\\r\\n  Even such blows as theirs that combat me;\\r\\n    But now, alack!\\r\\n\\r\\n  \"They fight with the wiles of fiends escaping\\r\\n    And underhand.\\r\\n  Six times, O God, and my wounds are gaping!\\r\\n    I--reel to stand.\\r\\n\\r\\n  \"Six battles\\' span! By this gasping breath\\r\\n    No pantomime.\\r\\n  Tis all that I can. I am sick unto death.\\r\\n    And--a seventh time?\\r\\n\\r\\n  \"This is beyond all battles\\' soreness!\"\\r\\n    Then his wonder cried;\\r\\n  For Laughter, with shield and steely harness,\\r\\n    Stood up at his side!\\r\\n\\r\\n\\r\\n_William Rose Benét,_\\r\\n\\r\\nFrom \"Merchants from Cathay.\"\\r\\n\\r\\n\\r\\n\\r\\n\\r\\nSUBMISSION\\r\\n\\r\\n\\r\\nThere are times when the right thing to do is to submit. There are times\\r\\nwhen the right thing is to strive, to fight. To put forth one\\'s best\\r\\neffort is itself a reward. But sometimes it brings a material reward\\r\\nalso. The frog that after falling into the churn found that it couldn\\'t\\r\\njump out and wouldn\\'t try, was drowned. The frog that kept leaping in\\r\\nbrave but seemingly hopeless endeavor at last churned the milk, mounted\\r\\nthe butter for a final effort, and escaped.\\r\\n\\r\\n\\r\\n  Submission? They have preached at that so long.\\r\\n  As though the head bowed down would right the wrong,\\r\\n    As though the folded hand, the coward heart\\r\\n  Were saintly signs of souls sublimely strong;\\r\\n    As though the man who acts the waiting part\\r\\n    And but submits, had little wings a-start.\\r\\n  But may I never reach that anguished plight\\r\\n  Where I at last grow weary of the fight.\\r\\n\\r\\n  Submission: \"Wrong of course must ever be\\r\\n  Because it ever was. \\'Tis not for me\\r\\n    To seek a change; to strike the maiden blow.\\r\\n  \\'Tis best to bow the head and not to see;\\r\\n    \\'Tis best to dream, that we need never know\\r\\n    The truth. To turn our eyes away from woe.\"\\r\\n  Perhaps. But ah--I pray for keener sight,\\r\\n  And may I not grow weary of the fight.\\r\\n\\r\\n\\r\\n_Miriam Teichner._\\r\\n\\r\\n\\r\\n\\r\\n\\r\\nA PRAYER\\r\\n\\r\\n\\r\\nGaribaldi, the Italian patriot, said to his men: \"I do not promise you\\r\\nease; I do not promise you comfort. I promise you hardship, weariness,\\r\\nsuffering; but I promise you victory.\"\\r\\n\\r\\n\\r\\n  I do not pray for peace,\\r\\n    Nor ask that on my path\\r\\n  The sounds of war shall shrill no more,\\r\\n    The way be clear of wrath.\\r\\n  But this I beg thee, Lord,\\r\\n    Steel Thou my heart with might,\\r\\n  And in the strife that men call life,\\r\\n    Grant me the strength to fight.\\r\\n\\r\\n  I do not pray for arms,\\r\\n    Nor shield to cover me.\\r\\n  What though I stand with empty hand,\\r\\n    So it be valiantly!\\r\\n  Spare me the coward\\'s fear--\\r\\n    Questioning wrong or right:\\r\\n  Lord, among these mine enemies,\\r\\n    Grant me the strength to fight.\\r\\n\\r\\n  I do not pray that Thou\\r\\n    Keep me from any wound,\\r\\n  Though I fall low from thrust and blow,\\r\\n    Forced fighting to the ground;\\r\\n  But give me wit to hide\\r\\n    My hurt from all men\\'s sight,\\r\\n  And for my need the while I bleed,\\r\\n    Lord, grant me strength to fight.\\r\\n\\r\\n  I do not pray that Thou\\r\\n    Shouldst grant me victory;\\r\\n  Enough to know that from my foe\\r\\n    I have no will to flee.\\r\\n  Beaten and bruised and banned,\\r\\n    Flung like a broken sword,\\r\\n  Grant me this thing for conquering--\\r\\n    Let me die fighting, Lord!\\r\\n\\r\\n\\r\\n_Theodosia Garrison._\\r\\n\\r\\nFrom \"The Earth Cry.\"\\r\\n\\r\\n\\r\\n\\r\\n\\r\\nSTABILITY\\r\\n\\r\\n\\r\\nWhom do we wish for our friends and allies? On whom would we wish to\\r\\ndepend in a time of need? Those who are not the slaves of fortune, but\\r\\nhave made the most of both her buffets and her rewards. Those who\\r\\ncontrol their fears and rash impulses, and do not give way to sudden\\r\\nemotion. Amid confusion and disaster men like these will stand, as\\r\\nJackson did at Bull Run, like a veritable stone wall.'"
      ]
     },
     "execution_count": 12,
     "metadata": {},
     "output_type": "execute_result"
    }
   ],
   "source": [
    "response.source_nodes[0].get_text()"
   ]
  },
  {
   "cell_type": "code",
   "execution_count": 13,
   "metadata": {},
   "outputs": [
    {
     "data": {
      "text/plain": [
       "'When God at first made Man,\\r\\n  Having a glass of blessings standing by;\\r\\n  Let us (said He) pour on him all we can:\\r\\n  Let the world\\'s riches, which disperséd lie,\\r\\n    Contract into a span.\\r\\n\\r\\n    So strength first made a way;\\r\\n  Then beauty flow\\'d, then wisdom, honor, pleasure\\r\\n  When almost all was out, God made a stay,\\r\\n  Perceiving that alone, of all His treasure,\\r\\n    Rest in the bottom lay.\\r\\n\\r\\n    For if I should (said He)\\r\\n  Bestow this jewel also on My creature,\\r\\n  He would adore My gifts instead of Me,\\r\\n  And rest in Nature, not the God of Nature.\\r\\n    So both should losers be.\\r\\n\\r\\n    Yet let him keep the rest,\\r\\n  But keep them with repining restlessness:\\r\\n  Let him be rich and weary, that at least,\\r\\n  If goodness lead him not, yet weariness\\r\\n    May toss him to My breast.\\r\\n\\r\\n\\r\\n_George Herbert._\\r\\n\\r\\n\\r\\n\\r\\n\\r\\nA PHILOSOPHER\\r\\n\\r\\n\\r\\n\"The web of our life is of mingled yarn, good and ill together,\" says\\r\\nShakespeare. It behooves us therefore to find the good and to make the\\r\\nbest of the ill. Two men were falling from an aeroplane. \"I\\'ll bet you\\r\\nfive dollars,\" said one, \"that I hit the ground first.\"\\r\\n\\r\\n\\r\\n    To take things as they be--\\r\\n    Thet\\'s my philosophy.\\r\\n  No use to holler, mope, or cuss--\\r\\n  If they was changed they might be wuss.\\r\\n\\r\\n    If rain is pourin\\' down,\\r\\n    An\\' lightnin\\' buzzin\\' roun\\',\\r\\n  I ain\\'t a-fearin\\' we\\'ll be hit,\\r\\n  But grin thet I ain\\'t out in it.\\r\\n\\r\\n    If I got deep in debt--\\r\\n    It hasn\\'t happened yet--\\r\\n  And owed a man two dollars, Gee!\\r\\n  Why I\\'d be glad it wasn\\'t three.\\r\\n\\r\\n    If some one come along,\\r\\n    And tried to do me wrong,\\r\\n  Why I should sort of take a whim\\r\\n  To thank the Lord I wasn\\'t him.\\r\\n\\r\\n    I never seen a night\\r\\n    So dark there wasn\\'t light\\r\\n  Somewheres about if I took care\\r\\n  To strike a match and find out where.\\r\\n\\r\\n\\r\\n_John Kendrick Bangs._\\r\\n\\r\\nFrom \"Songs of Cheer.\"\\r\\n\\r\\n\\r\\n\\r\\n\\r\\nTHE LIFE WITHOUT PASSION\\r\\n\\r\\n\\r\\nA person may feel deeply without shouting his emotion to the skies, or\\r\\nbe strong without seizing occasions to exhibit his strength. In truth we\\r\\ndistrust the power which makes too much a display of itself. Let it\\r\\nexert itself only to the point of securing the ends that are really\\r\\nnecessary. Restraint, self-control are in truth more mighty than might\\r\\nunshackled, just as a self-possessed opponent is more dangerous than a\\r\\nfrenzied one. Moreover, there is a moral side to the question. A good\\r\\nquality, if abused or allowed free sway, becomes a force for evil and\\r\\ndoes its owner more harm than if he had not possessed it in the first\\r\\nplace.\\r\\n\\r\\n\\r\\n  They that have power to hurt, and will do none,\\r\\n  That do not do the thing they most do show,\\r\\n  Who, moving others, are themselves as stone,\\r\\n  Unmoved, cold, and to temptation slow,--\\r\\n\\r\\n  They rightly do inherit heaven\\'s graces,\\r\\n  And husband nature\\'s riches from expense;\\r\\n  They are the lords and owners of their faces,\\r\\n  Others, but stewards of their excellence.\\r\\n\\r\\n  The summer\\'s flower is to the summer sweet,\\r\\n  Though to itself it only live and die;\\r\\n  But if that flower with base infection meet,\\r\\n  The basest weed outbraves his dignity:\\r\\n\\r\\n  For sweetest things turn sourest by their deeds;\\r\\n  Lilies that fester smell far worse than weeds.\\r\\n\\r\\n\\r\\n_William Shakespeare._\\r\\n\\r\\n\\r\\n\\r\\n\\r\\nCHARACTER OF A HAPPY LIFE\\r\\n\\r\\n\\r\\n\"I\\'d rather be right than President,\" said Henry Clay. It is to men who\\r\\nare animated by this spirit that the greatest satisfaction in life\\r\\ncomes. For true blessedness does not lie far off and above us. It is\\r\\nclose at hand. Booker T. Washington once told a story of a ship that had\\r\\nexhausted its supply of fresh water and signaled its need to a passing\\r\\nvessel. The reply was, \"Send down your buckets where you are.\" Thinking\\r\\nthere was some misunderstanding, the captain repeated his signal, only\\r\\nto be answered as before. This time he did as he was bidden and secured\\r\\nan abundance of fresh water. His ship was opposite the mouth of a mighty\\r\\nriver which still kept its current unmingled with the waters of the\\r\\nocean.'"
      ]
     },
     "execution_count": 13,
     "metadata": {},
     "output_type": "execute_result"
    }
   ],
   "source": [
    "response.source_nodes[1].get_text()"
   ]
  },
  {
   "cell_type": "markdown",
   "metadata": {},
   "source": [
    "### Streaming response"
   ]
  },
  {
   "cell_type": "code",
   "execution_count": 14,
   "metadata": {},
   "outputs": [
    {
     "name": "stdout",
     "output_type": "stream",
     "text": [
      "The poems by Rudyard Kipling that are in the book are \"If\" and \"When Earth's Last Picture Is Painted\"."
     ]
    }
   ],
   "source": [
    "response = query_engine.query(\n",
    "    \"What poems by Rudyard Kipling are in this book?\"\n",
    ")\n",
    "\n",
    "response.print_response_stream()"
   ]
  },
  {
   "cell_type": "markdown",
   "metadata": {},
   "source": [
    "### 💬 Chat Engine"
   ]
  },
  {
   "cell_type": "code",
   "execution_count": 15,
   "metadata": {},
   "outputs": [
    {
     "name": "stdout",
     "output_type": "stream",
     "text": [
      "===== Entering Chat REPL =====\n",
      "Type \"exit\" to exit.\n",
      "\n",
      "Assistant:  Rudyard Kipling's book of poems includes topics such as the military, travel, and perseverance.\n",
      "\n"
     ]
    }
   ],
   "source": [
    "chat_engine = index.as_chat_engine(llm=llm)\n",
    "\n",
    "chat_engine.streaming_chat_repl()"
   ]
  },
  {
   "cell_type": "markdown",
   "metadata": {},
   "source": [
    "### Chat modes\n",
    "\n",
    "#### Simple\n",
    "\n",
    "Chat with LLM, without making use of a knowledge base. To use this mode set `chat_mode=\"simple\"`.\n",
    "\n",
    "Corresponds to [`SimpleChatEngine`](https://github.com/run-llama/llama_index/blob/main/llama-index-core/llama_index/core/chat_engine/simple.py). \n",
    "\n",
    "#### Condense question\n",
    "\n",
    "Generate a standalone question from the conversation context and the last message. Then, ask the query engine for a response. To use this mode set `chat_mode=\"condense_question\"`.\n",
    "\n",
    "Corresponds to [`CondenseQuestionChatEngine`](https://github.com/run-llama/llama_index/blob/main/llama-index-core/llama_index/core/chat_engine/condense_question.py).\n",
    "\n",
    "#### Context \n",
    "\n",
    "Retrieve text from the index based on the user's message. Utilize this context to formulate a response. To use this mode set `chat_mode=\"context\"`.\n",
    "\n",
    "Corresponds to [`ContextChatEngine`](https://github.com/run-llama/llama_index/blob/main/llama-index-core/llama_index/core/chat_engine/context.py).\n",
    "\n",
    "#### Condense plus context\n",
    "\n",
    "Condense a conversation and latest user message to a standalone question. Then build a context for the standalone question from a retriever. Finally, pass the context along with prompt and user message to LLM to generate a response. To use this mode set `chat_mode=\"condense_plus_context\"`.\n",
    "\n",
    "Corresponds to [`CondensePlusContextChatEngine`](https://github.com/run-llama/llama_index/blob/main/llama-index-core/llama_index/core/chat_engine/condense_plus_context.py).\n",
    "\n",
    "#### ReACT\n",
    "Corresponds to [`ReActAgent`](https://github.com/run-llama/llama_index/blob/37c95965426bddae82cec1ad49d3aa82e8bfe819/llama-index-core/llama_index/core/agent/react/base.py#L36).\n",
    "\n",
    "Use a ReAct agent loop with query engine tools. To use this mode set `chat_mode=\"react\"`.\n",
    "\n",
    "#### Best\n",
    "\n",
    "Select the best chat engine based on the current LLM. To use this mode set `chat_mode=\"best\"`.\n",
    "\n",
    "Corresponds to `OpenAIAgent` if using an OpenAI model that supports function calling API, otherwise, corresponds to `ReActAgent`."
   ]
  },
  {
   "cell_type": "code",
   "execution_count": null,
   "metadata": {},
   "outputs": [],
   "source": [
    "from llama_index.core.memory import ChatMemoryBuffer\n",
    "\n",
    "memory = ChatMemoryBuffer.from_defaults(token_limit=1500)\n",
    "\n",
    "chat_engine = index.as_chat_engine(\n",
    "    llm=llm,\n",
    "    chat_mode=\"context\",\n",
    "    memory=memory,\n",
    "    system_prompt=(\n",
    "        \"You are a chatbot, able to have normal interactions, as well as talk\"\n",
    "        \" about a book of poems called 'It Can Be Done'.\"\n",
    "    ),\n",
    ")\n",
    "\n",
    "chat_engine.streaming_chat_repl()"
   ]
  },
  {
   "cell_type": "markdown",
   "metadata": {},
   "source": [
    "# Customizing Querying\n",
    "\n",
    "- 🔧 **Customizing Retrieval**: Use LlamaIndex's low-level composition API to adjust `top_k` value for more granular control over query results.\n",
    "\n",
    "- 📈 **Adding Post-Processing**: Implement a step to ensure only nodes meeting a minimum similarity score are included, balancing between data richness and relevance.\n",
    "\n",
    "- 🎚️ **SimilarityPostprocessor**: Set a similarity score threshold, compatible only with embedding-based retrievers, to ensure high relevance."
   ]
  },
  {
   "cell_type": "code",
   "execution_count": null,
   "metadata": {},
   "outputs": [],
   "source": [
    "from llama_index.core import get_response_synthesizer\n",
    "from llama_index.core.retrievers import VectorIndexRetriever\n",
    "from llama_index.core.query_engine import RetrieverQueryEngine\n",
    "from llama_index.core.postprocessor import SimilarityPostprocessor\n",
    "\n",
    "# configure a retriever\n",
    "retriever = VectorIndexRetriever(\n",
    "    index=index,\n",
    "    similarity_top_k=10,\n",
    ")\n",
    "\n",
    "# configure a post processor\n",
    "similarity_processor = SimilarityPostprocessor(similarity_cutoff=0.42)\n",
    "\n",
    "# configure a response sythesizer\n",
    "response_synthsizer = get_response_synthesizer(llm=llm)\n",
    "\n",
    "# create a query engine\n",
    "query_engine = RetrieverQueryEngine(\n",
    "    retriever=retriever,\n",
    "    response_synthesizer=response_synthsizer,\n",
    "    node_postprocessors=[similarity_processor],\n",
    ")"
   ]
  },
  {
   "cell_type": "code",
   "execution_count": null,
   "metadata": {},
   "outputs": [],
   "source": [
    "query_engine.query(\"Compare the portrayal of internal versus external battles in the narratives and poems\")"
   ]
  },
  {
   "cell_type": "code",
   "execution_count": 16,
   "metadata": {},
   "outputs": [],
   "source": [
    "client.close()"
   ]
  }
 ],
 "metadata": {
  "kernelspec": {
   "display_name": "py311",
   "language": "python",
   "name": "python3"
  },
  "language_info": {
   "codemirror_mode": {
    "name": "ipython",
    "version": 3
   },
   "file_extension": ".py",
   "mimetype": "text/x-python",
   "name": "python",
   "nbconvert_exporter": "python",
   "pygments_lexer": "ipython3",
   "version": "3.10.0"
  }
 },
 "nbformat": 4,
 "nbformat_minor": 2
}
