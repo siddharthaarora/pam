{
 "cells": [
  {
   "cell_type": "code",
   "execution_count": null,
   "metadata": {},
   "outputs": [],
   "source": [
    "%%capture\n",
    "!pip install llama-index==0.10.37 llama-index-embeddings-cohere--0.2.0"
   ]
  },
  {
   "cell_type": "code",
   "execution_count": null,
   "metadata": {},
   "outputs": [],
   "source": [
    "import os\n",
    "\n",
    "from getpass import getpass\n",
    "import nest_asyncio\n",
    "\n",
    "from dotenv import load_dotenv\n",
    "\n",
    "nest_asyncio.apply()\n",
    "\n",
    "load_dotenv()"
   ]
  },
  {
   "cell_type": "code",
   "execution_count": null,
   "metadata": {},
   "outputs": [],
   "source": [
    "CO_API_KEY = os.environ['CO_API_KEY'] or getpass(\"Enter your Cohere API key: \")"
   ]
  },
  {
   "cell_type": "markdown",
   "metadata": {},
   "source": [
    "# 🗂️ Indexing\n",
    "\n",
    "An `Index` is a data structure that allows for the quick retrieval of relevant context for a user query. \n",
    "\n",
    "It is the core foundation for retrieval-augmented generation (RAG) use-cases. Indexes are built from `Documents` and are used to build Retrievers, Query Engines and Chat Engines. All of which enable question & answer and chat over your data.\n",
    "\n",
    "- 📂 After loading your data, you're ready to construct an `Index`.\n",
    "\n",
    "- 🌐 **Vector Store Index:** The most common Index type. It segments your `Documents` into `Nodes` and generates vector embeddings for each node's text, prepping them for LLM queries.\n",
    "\n",
    "- 🔄 **Vector Store Index Process:** Parse raw texts into document objects, split document objects into chunks/nodes, then convert all your nodes into embeddings and store them in a vector database.\n",
    "\n",
    "### ⚙️ Embedding Text\n",
    "\n",
    "First, let's see what an embedding is.\n"
   ]
  },
  {
   "cell_type": "code",
   "execution_count": null,
   "metadata": {},
   "outputs": [],
   "source": [
    "from llama_index.embeddings.cohere import CohereEmbedding\n",
    "\n",
    "embed_v3 = CohereEmbedding(model_name=\"embed-english-v3.0\")\n",
    "\n",
    "embed_v3_light = CohereEmbedding(model_name=\"embed-english-light-v3.0\")\n",
    "\n",
    "embed_v2 = CohereEmbedding(model_name=\"embed-english-v2.0\") "
   ]
  },
  {
   "cell_type": "markdown",
   "metadata": {},
   "source": [
    "#### You can also use local embedding models, by using an embedding model from Hugging Face. Check the [MTEB Leaderboard for what's hot](huggingface.co/spaces/mteb/leaderboard)\n",
    "\n",
    "```python\n",
    "\n",
    "pip install llama-index-embeddings-huggingface\n",
    "\n",
    "from llama_index.embeddings.huggingface import HuggingFaceEmbedding\n",
    "\n",
    "hf_embed_model = HuggingFaceEmbedding(model_name=\"BAAI/bge-small-en-v1.5\")\n",
    "```\n",
    "\n",
    "#### If you're running locally and on a CPU, though, you may want to use `FastEmbed`. These models are lightweight, quantized, and optimized for CPU. Here are the [supported models](https://qdrant.github.io/fastembed/examples/Supported_Models/)\n",
    "\n",
    "This is how you can instantiate a `FastEmbed` model:\n",
    "\n",
    "```python\n",
    "pip install llama-index-embeddings-fastembed\n",
    "\n",
    "from llama_index.embeddings.fastembed import FastEmbedEmbedding\n",
    "\n",
    "embed_model = FastEmbedEmbedding(model_name=\"BAAI/bge-large-en-v1.5-quantized\")\n",
    "```"
   ]
  },
  {
   "cell_type": "code",
   "execution_count": null,
   "metadata": {},
   "outputs": [],
   "source": [
    "string = \"A\"\n",
    "\n",
    "string_2 = \"This is a complete sentence.\"\n",
    "\n",
    "string_3 = \"\"\"In the pursuit of a life well-lived, one must recognize the transient nature of the \n",
    "material world and the enduring value of virtue. The Sikh Gurus taught us that the Divine Light \n",
    "resides within all, and thus, we are united in our essence beyond the superficial distinctions of \n",
    "caste, creed, or status. Similarly, the Stoics emphasized the cultivation of inner virtues such as courage, \n",
    "temperance, and wisdom, understanding that true freedom lies in mastery over one's own perceptions and actions. \n",
    "As we navigate the vicissitudes of life, let us remember that our choices are our own, and in choosing virtue, \n",
    "we align ourselves with the cosmic order and the teachings of the Gurus. It is through selfless service, \n",
    "compassion, and the relentless pursuit of truth that we may attain a state of inner peace and contribute \n",
    "to the harmony of the world, embodying the principles of both Sikhism and Stoicism in our daily lives\n",
    "\"\"\""
   ]
  },
  {
   "cell_type": "code",
   "execution_count": null,
   "metadata": {},
   "outputs": [],
   "source": [
    "example_embedding = embed_v3.get_text_embedding(string)"
   ]
  },
  {
   "cell_type": "code",
   "execution_count": null,
   "metadata": {},
   "outputs": [],
   "source": [
    "len(example_embedding)"
   ]
  },
  {
   "cell_type": "code",
   "execution_count": null,
   "metadata": {},
   "outputs": [],
   "source": [
    "def get_embedding_dimensions(embed_model, list_of_strings):\n",
    "    embeddings = embed_model.get_text_embedding_batch(list_of_strings)   \n",
    "    embed_lens = []\n",
    "    for embedding in embeddings:\n",
    "        embed_lens.append(len(embedding))\n",
    "    return embed_lens"
   ]
  },
  {
   "cell_type": "code",
   "execution_count": null,
   "metadata": {},
   "outputs": [],
   "source": [
    "get_embedding_dimensions(embed_v3, [string, string_2, string_3])"
   ]
  },
  {
   "cell_type": "code",
   "execution_count": null,
   "metadata": {},
   "outputs": [],
   "source": [
    "get_embedding_dimensions(embed_v3_light, [string, string_2, string_3])"
   ]
  },
  {
   "cell_type": "code",
   "execution_count": null,
   "metadata": {},
   "outputs": [],
   "source": [
    "get_embedding_dimensions(embed_v2, [string, string_2, string_3])"
   ]
  },
  {
   "cell_type": "code",
   "execution_count": null,
   "metadata": {},
   "outputs": [],
   "source": [
    "embed_v3.similarity(\n",
    "    embed_v3.get_text_embedding(\"\"\"In embracing both the wisdom of the Sikh Gurus and the Stoic philosophers, \n",
    "                              we find a path to tranquility by accepting what is beyond our control and focusing \n",
    "                              our efforts on living virtuously and with purpose.\"\"\"), \n",
    "    embed_v3.get_text_embedding(string_2),\n",
    "    mode=\"cosine\"\n",
    "    )"
   ]
  },
  {
   "cell_type": "markdown",
   "metadata": {},
   "source": [
    "# Create an Index\n",
    "\n",
    "First, let's get some data"
   ]
  },
  {
   "cell_type": "code",
   "execution_count": null,
   "metadata": {},
   "outputs": [],
   "source": [
    "import requests\n",
    "\n",
    "def load_text_from_url(url: str) -> str:\n",
    "    \"\"\"\n",
    "    Fetches and returns the text content from the specified URL.\n",
    "\n",
    "    Parameters:\n",
    "    - url: The URL of the text file to fetch.\n",
    "\n",
    "    Returns:\n",
    "    - The text content of the file if the request is successful; otherwise, an error message.\n",
    "    \"\"\"\n",
    "    try:\n",
    "        response = requests.get(url)\n",
    "        response.raise_for_status()  # This will raise an HTTPError if the response was an error\n",
    "        return response.text\n",
    "    except requests.RequestException as e:\n",
    "        return f\"Failed to load content from {url}. Error: {e}\"\n",
    "\n",
    "url = \"https://www.gutenberg.org/files/10763/10763.txt\"\n",
    "\n",
    "text_content = load_text_from_url(url)"
   ]
  },
  {
   "cell_type": "markdown",
   "metadata": {},
   "source": [
    "⏳ Generating embeddings can be time-consuming, especially with large volumes of text, due to numerous API calls required. \n",
    "\n",
    "Now, create an index by passing a **list of Documents**. To save time, and cost, we will only use 10,000 characters of the document"
   ]
  },
  {
   "cell_type": "code",
   "execution_count": null,
   "metadata": {},
   "outputs": [],
   "source": [
    "from llama_index.core import Document, VectorStoreIndex\n",
    "\n",
    "full_document = Document(text=text_content)\n",
    "\n",
    "partial_document = Document(text=text_content[50000:60000])"
   ]
  },
  {
   "cell_type": "markdown",
   "metadata": {},
   "source": [
    "The `VectorStoreIndex` in LlamaIndex can be created in two ways: `from_documents` and `from_vector_store`.\n",
    "\n",
    "- `from_documents`: when you have a set of documents that you want to index. This method takes these documents, computes their embeddings, and stores them in the vector store. \n",
    "\n",
    "- `from_vector_store`: when you already have computed embeddings that are stored in an external vector store (like Qdrant). This method connects to the external vector store and uses the pre-computed embeddings for the index. \n",
    "\n"
   ]
  },
  {
   "cell_type": "code",
   "execution_count": null,
   "metadata": {},
   "outputs": [],
   "source": [
    "index = VectorStoreIndex.from_documents(\n",
    "    # remember, you must pass a list of documents!\n",
    "    [partial_document], \n",
    "    embed_model=embed_v3,\n",
    "    show_progress=True)"
   ]
  },
  {
   "cell_type": "markdown",
   "metadata": {},
   "source": [
    "Note, you can also build an index over a **list of `Node` objects**.\n"
   ]
  },
  {
   "cell_type": "code",
   "execution_count": null,
   "metadata": {},
   "outputs": [],
   "source": [
    "from llama_index.core.node_parser import SentenceSplitter\n",
    "\n",
    "# instantiate a node parser\n",
    "splitter = SentenceSplitter(\n",
    "    chunk_size=512,\n",
    "    chunk_overlap=16,\n",
    "    paragraph_separator=\"\\n\\n\\n\\n\",\n",
    ")\n",
    "\n",
    "# pass a list of documents to the node paraser\n",
    "nodes = splitter.get_nodes_from_documents([partial_document])\n",
    "\n",
    "# create the index from the nodes\n",
    "index_from_nodes = VectorStoreIndex(\n",
    "    nodes,\n",
    "    embed_model=embed_v3,\n",
    "    show_progress=True\n",
    "    )"
   ]
  },
  {
   "cell_type": "markdown",
   "metadata": {},
   "source": [
    "Let's build on this pattern in the next lesson, where we'll store and persist our index for future use."
   ]
  }
 ],
 "metadata": {
  "kernelspec": {
   "display_name": "py311",
   "language": "python",
   "name": "python3"
  },
  "language_info": {
   "codemirror_mode": {
    "name": "ipython",
    "version": 3
   },
   "file_extension": ".py",
   "mimetype": "text/x-python",
   "name": "python",
   "nbconvert_exporter": "python",
   "pygments_lexer": "ipython3",
   "version": "3.10.14"
  }
 },
 "nbformat": 4,
 "nbformat_minor": 2
}
