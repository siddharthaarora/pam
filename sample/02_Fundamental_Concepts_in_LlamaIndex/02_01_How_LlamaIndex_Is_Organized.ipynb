{
 "cells": [
  {
   "cell_type": "markdown",
   "metadata": {},
   "source": [
    "# LlamaIndex Overview\n",
    "\n",
    "LlamaIndex is a broad toolkit containing hundreds of integrations:\n",
    "\n",
    " - 150+ data loaders\n",
    " - 35+ agent tools\n",
    " - 50+ LlamaPack templates\n",
    " - 50+ LLMs\n",
    " - 25+ embeddings\n",
    " - 40+ vector stores\n",
    "\n",
    "<img src=\"https://miro.medium.com/v2/resize:fit:1100/format:webp/1*m3YA6oLsYsVVBWG67RIIbA.png\" height=\"50%\" width=\"auto\">\n",
    "\n",
    "\n",
    " - `llama-index-core` :  A slimmed-down package that contains the core LlamaIndex abstractions and components, without any integrations. Integrations are available as a separate package. \n",
    "\n",
    "- `llama-index-integrations`: This folder contains third-party integrations for 19 LlamaIndex abstractions. This includes data loaders, LLMs, embedding models, vector stores, and more. \n",
    "\n",
    "- `llama-index-packs` : This contains 50+ LlamaPacks, which are templates designed to kickstart a user’s application. You can view all of the packs [here](https://pretty-sodium-5e0.notion.site/ce81b247649a44e4b6b35dfb24af28a6?v=53b3c2ced7bb4c9996b81b83c9f01139)\n",
    "\n",
    "Each integration and pack will need to be installed before use, and I'll be sure to include the a line at the top of each notebook which will install the required package."
   ]
  }
 ],
 "metadata": {
  "kernelspec": {
   "display_name": "lil_lama_index",
   "language": "python",
   "name": "python3"
  },
  "language_info": {
   "name": "python",
   "version": "3.12.1"
  }
 },
 "nbformat": 4,
 "nbformat_minor": 2
}
