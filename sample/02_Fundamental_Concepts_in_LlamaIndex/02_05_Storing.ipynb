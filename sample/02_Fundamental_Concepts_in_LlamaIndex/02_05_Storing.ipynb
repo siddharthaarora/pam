{
 "cells": [
  {
   "cell_type": "code",
   "execution_count": null,
   "metadata": {},
   "outputs": [],
   "source": [
    "%%capture\n",
    "!pip install llama-index==0.10.37 cohere==5.5.0 openai==1.30.1 llama-index-embeddings-openai==0.1.9 llama-index-llms-cohere==0.2.0 qdrant-client==1.9.1 llama-index-vector-stores-qdrant==0.2.8 "
   ]
  },
  {
   "cell_type": "code",
   "execution_count": 1,
   "metadata": {},
   "outputs": [
    {
     "data": {
      "text/plain": [
       "True"
      ]
     },
     "execution_count": 1,
     "metadata": {},
     "output_type": "execute_result"
    }
   ],
   "source": [
    "import os\n",
    "\n",
    "from getpass import getpass\n",
    "import nest_asyncio\n",
    "\n",
    "from dotenv import load_dotenv\n",
    "\n",
    "nest_asyncio.apply()\n",
    "\n",
    "load_dotenv()"
   ]
  },
  {
   "cell_type": "code",
   "execution_count": 2,
   "metadata": {},
   "outputs": [],
   "source": [
    "CO_API_KEY = os.environ['CO_API_KEY'] or getpass(\"Enter your Cohere API key: \")"
   ]
  },
  {
   "cell_type": "code",
   "execution_count": 3,
   "metadata": {},
   "outputs": [],
   "source": [
    "OPENAI_API_KEY = os.environ['OPENAI_API_KEY'] or getpass(\"Enter your OpenAI API key: \")"
   ]
  },
  {
   "cell_type": "code",
   "execution_count": 4,
   "metadata": {},
   "outputs": [],
   "source": [
    "QDRANT_URL = os.environ['QDRANT_URL'] or getpass(\"Enter your Qdrant URL:\")"
   ]
  },
  {
   "cell_type": "code",
   "execution_count": 5,
   "metadata": {},
   "outputs": [],
   "source": [
    "QDRANT_API_KEY = os.environ['QDRANT_API_KEY'] or  getpass(\"Enter your Qdrant API Key:\")"
   ]
  },
  {
   "cell_type": "code",
   "execution_count": null,
   "metadata": {},
   "outputs": [],
   "source": [
    "from pathlib import Path\n",
    "\n",
    "def create_directory(directory_name):\n",
    "    path = Path(directory_name)\n",
    "    path.mkdir(parents=True, exist_ok=True)\n",
    "    print(f\"Directory '{directory_name}' created successfully.\")\n",
    "\n",
    "create_directory(\"data\")"
   ]
  },
  {
   "cell_type": "code",
   "execution_count": null,
   "metadata": {},
   "outputs": [],
   "source": [
    "!wget -P data https://www.gutenberg.org/cache/epub/10763/pg10763.txt "
   ]
  },
  {
   "cell_type": "markdown",
   "metadata": {},
   "source": [
    "# 🗄️ Storing\n",
    "\n",
    "Loading and indexing data costs time and money.\n",
    "\n",
    "By default, indexed data is stored in memory. But, you can store your data to avoid the time and costs associated with re-indexing them.  The simplest way to do this **persisting to disk**.\n",
    "\n",
    "Each `Index` object has a `.persist()` method, which will write all the data to disk at the specified location."
   ]
  },
  {
   "cell_type": "markdown",
   "metadata": {},
   "source": [
    "Now that we've dowloaded data, let's:\n",
    "\n",
    "1) Load as Document\n",
    "2) Parse as Nodes\n",
    "3) Create index"
   ]
  },
  {
   "cell_type": "code",
   "execution_count": 6,
   "metadata": {},
   "outputs": [],
   "source": [
    "from llama_index.core import SimpleDirectoryReader\n",
    "\n",
    "file_path = \"data/pg10763.txt\"\n",
    "\n",
    "document = SimpleDirectoryReader(input_files=[file_path], filename_as_id=True).load_data()"
   ]
  },
  {
   "cell_type": "code",
   "execution_count": 7,
   "metadata": {},
   "outputs": [],
   "source": [
    "# Create Node parser\n",
    "from llama_index.core.node_parser import SentenceSplitter\n",
    "\n",
    "sentence_splitter = SentenceSplitter(\n",
    "    chunk_size=512, \n",
    "    chunk_overlap=16,\n",
    "    paragraph_separator=\"\\n\\n\\n\\n\" \n",
    ")"
   ]
  },
  {
   "cell_type": "code",
   "execution_count": 8,
   "metadata": {},
   "outputs": [],
   "source": [
    "# Instantiate embedding model\n",
    "from llama_index.embeddings.openai import OpenAIEmbedding\n",
    "\n",
    "embed_model = OpenAIEmbedding(model_name=\"text-embedding-3-small\")"
   ]
  },
  {
   "cell_type": "markdown",
   "metadata": {},
   "source": [
    "# ☁️ Using a Vector Database\n",
    "\n",
    "We'll use qdrant as our vector database of choice throughout this course.\n",
    "\n",
    "To use qdrant to store embeddings from the `VectorStoreIndex`, you need to:\n",
    "\n",
    "- Initialize the qdrant client\n",
    "\n",
    "- Create a `Collection` to store your data in qdrant\n",
    "\n",
    "- Assign qdrant as the `vector_store` in a `StorageContext`\n",
    "\n",
    "- Initialize your `VectorStoreIndex` using that `StorageContext`\n",
    "\n",
    "Below, we initialize a `QdrantClient` for interacting with qdrant, an open-source vector store. \n"
   ]
  },
  {
   "cell_type": "code",
   "execution_count": 9,
   "metadata": {},
   "outputs": [],
   "source": [
    "import qdrant_client\n",
    "from llama_index.vector_stores.qdrant import QdrantVectorStore\n",
    "\n",
    "# initialize qdrant client\n",
    "client = qdrant_client.QdrantClient(\n",
    "    url=QDRANT_URL, \n",
    "    api_key=QDRANT_API_KEY,\n",
    ")\n",
    "\n",
    "vector_store = QdrantVectorStore(\n",
    "    client=client, \n",
    "    collection_name=\"it_can_be_done\",\n",
    "    embed_model=embed_model,\n",
    ")"
   ]
  },
  {
   "cell_type": "markdown",
   "metadata": {},
   "source": [
    "# 🗃️ Storage Context\n",
    "\n",
    "`StorageContext` in `LlamaIndex` is a core abstraction that revolves around the storage of `Nodes`, indices, and vectors.  It facilitates data storage and retrieval.\n",
    "\n",
    "It is a utility container that supports the following:\n",
    "\n",
    " - `docstore`: A [`BaseDocumentStore`](https://github.com/run-llama/llama_index/blob/main/llama-index-core/llama_index/core/storage/docstore/types.py) for storing nodes.\n",
    "\n",
    " - `index_store`: A [`BaseIndexStore`](https://github.com/run-llama/llama_index/blob/main/llama-index-core/llama_index/core/storage/index_store/types.py#L13) for storing indices.\n",
    "\n",
    " - `vector_store`: A [`VectorStore`](https://github.com/run-llama/llama_index/blob/main/llama-index-core/llama_index/core/vector_stores/simple.py) for storing vectors.\n",
    "\n",
    " - `graph_store`: A [`GraphStore`](https://github.com/run-llama/llama_index/blob/main/llama-index-core/llama_index/core/graph_stores/simple.py) for storing knowledge graphs.\n",
    "\n",
    "Below we instantiate the `StorageContext` from default settings indicating that we want to use a vector store."
   ]
  },
  {
   "cell_type": "code",
   "execution_count": 10,
   "metadata": {},
   "outputs": [],
   "source": [
    "from llama_index.core import StorageContext\n",
    "\n",
    "# assign qdrant vector store to storage context\n",
    "storage_context = StorageContext.from_defaults(\n",
    "    vector_store=vector_store,\n",
    "    )"
   ]
  },
  {
   "cell_type": "code",
   "execution_count": 11,
   "metadata": {},
   "outputs": [
    {
     "name": "stderr",
     "output_type": "stream",
     "text": [
      "/opt/conda/envs/lil_llama_index/lib/python3.10/site-packages/tqdm/auto.py:21: TqdmWarning: IProgress not found. Please update jupyter and ipywidgets. See https://ipywidgets.readthedocs.io/en/stable/user_install.html\n",
      "  from .autonotebook import tqdm as notebook_tqdm\n",
      "Parsing nodes: 100%|██████████| 1/1 [00:00<00:00,  4.35it/s]\n",
      "Generating embeddings: 100%|██████████| 126/126 [00:02<00:00, 51.47it/s]\n"
     ]
    }
   ],
   "source": [
    "from llama_index.core import  VectorStoreIndex\n",
    "\n",
    "# create the index\n",
    "index = VectorStoreIndex.from_documents(\n",
    "    document,\n",
    "    show_progress=True,\n",
    "    store_nodes_override=True,\n",
    "    transformation=[sentence_splitter],\n",
    "    embed_model=embed_model,\n",
    "    storage_context=storage_context,\n",
    ")"
   ]
  },
  {
   "cell_type": "markdown",
   "metadata": {},
   "source": [
    "# 🪃 Retrieval\n",
    "\n",
    "A `Retriever` is an interface exposed by the `Index`. An `Index` with its `Retriever` is used for storing and fetching data. The `Retriever` is a part of the `Index` and is used to retrieve the data stored in the Index.\n",
    "\n",
    "\n",
    "### LlamaIndex provides [many different types of retrievers](https://github.com/run-llama/llama_index/tree/main/llama-index-core/llama_index/core/retrievers) to fetch relevant information from ingested data based on a given query. \n",
    "\n",
    "Some examples include\n",
    "\n",
    "### Vector Retriever\n",
    "\n",
    "The vector retriever uses vector similarity search to find the most relevant nodes (chunks of text) based on the query embedding. It requires a vector database like to store and search through the node embeddings.\n",
    "\n",
    "### [Fusion Retriever](https://github.com/run-llama/llama_index/blob/main/llama-index-core/llama_index/core/retrievers/fusion_retriever.py)\n",
    "\n",
    "The fusion retriever generates multiple queries from the original query, performs retrieval over an ensemble of retrievers for each query, and then fuses and reranks the results across all queries. This aims to better capture the query intent through query rewriting and ensembling.\n",
    "\n",
    "### [Recursive Retriever](https://github.com/run-llama/llama_index/blob/main/llama-index-core/llama_index/core/retrievers/recursive_retriever.py)\n",
    "\n",
    "The recursive retriever allows for hierarchical retrieval by first retrieving coarse nodes and then recursively retrieving finer-grained nodes within those coarse nodes. This can be useful for multi-level indexing and retrieval.\n",
    "\n",
    "You can also combine retrievers in interesting ways and build out more advanced retrieval strategies, as we will see later in this course.\n",
    "\n",
    "\n",
    "### In the example here, we're using a Vector Retriever\n",
    "\n",
    " - 🔍 When searching, your query is also converted into a vector embedding. \n",
    " \n",
    "- 🗂️ The `VectorStoreIndex` then performs a mathematical operation to rank embeddings based on semantic similarity to your query.\n",
    "\n",
    "- 🔝 Top-k semantic retrieval is the simplest wasy to query a vector index.\n",
    "\n",
    "- ⩬ You can also apply a similarity threshold  (e.g., only return results that are more similar than some value)\n"
   ]
  },
  {
   "cell_type": "code",
   "execution_count": 12,
   "metadata": {},
   "outputs": [],
   "source": [
    "retirever = index.as_retriever(\n",
    "    similarity_top_k=5,\n",
    "    similarity_threshold=0.75)"
   ]
  },
  {
   "cell_type": "code",
   "execution_count": 13,
   "metadata": {},
   "outputs": [
    {
     "data": {
      "text/plain": [
       "[NodeWithScore(node=TextNode(id_='1c76d824-ee82-4137-9d89-507d95c3c302', embedding=None, metadata={'file_path': 'data/pg10763.txt', 'file_name': 'pg10763.txt', 'file_type': 'text/plain', 'file_size': 405159, 'creation_date': '2024-05-21', 'last_modified_date': '2024-05-05'}, excluded_embed_metadata_keys=['file_name', 'file_type', 'file_size', 'creation_date', 'last_modified_date', 'last_accessed_date'], excluded_llm_metadata_keys=['file_name', 'file_type', 'file_size', 'creation_date', 'last_modified_date', 'last_accessed_date'], relationships={<NodeRelationship.SOURCE: '1'>: RelatedNodeInfo(node_id='data/pg10763.txt', node_type=<ObjectType.DOCUMENT: '4'>, metadata={'file_path': 'data/pg10763.txt', 'file_name': 'pg10763.txt', 'file_type': 'text/plain', 'file_size': 405159, 'creation_date': '2024-05-21', 'last_modified_date': '2024-05-05'}, hash='ce8443a693c1546f39c6bb0336c4d2f7929dd66c58288850e8b2df75ffa28edb'), <NodeRelationship.PREVIOUS: '2'>: RelatedNodeInfo(node_id='7510a8e9-9cba-47c5-9a5d-b7fd61533b26', node_type=<ObjectType.TEXT: '1'>, metadata={'file_path': 'data/pg10763.txt', 'file_name': 'pg10763.txt', 'file_type': 'text/plain', 'file_size': 405159, 'creation_date': '2024-05-21', 'last_modified_date': '2024-05-05'}, hash='98083e894b2576e872e29187d357a1fd5911062fc81eab3237918542e71e0643'), <NodeRelationship.NEXT: '3'>: RelatedNodeInfo(node_id='ee03c182-bb6a-4106-a1e8-0ce653fd4855', node_type=<ObjectType.TEXT: '1'>, metadata={}, hash='a980e6d246e3853a90d3fa21a60940baa90562ce255e279201b4ecb55e807579')}, text='And what is so kind as the cruel goad,\\r\\n  Forcing us on through the rugged road?\\r\\n\\r\\n  Work!\\r\\n  Thank God for the swing of it,\\r\\n  For the clamoring, hammering ring of it,\\r\\n  Passion and labor daily hurled\\r\\n  On the mighty anvils of the world.\\r\\n  Oh, what is so fierce as the flame of it?\\r\\n  And what is so huge as the aim of it?\\r\\n  Thundering on through dearth and doubt,\\r\\n  Calling the plan of the Maker out.\\r\\n  Work, the Titan; Work, the friend,\\r\\n  Shaping the earth to a glorious end,\\r\\n  Draining the swamps and blasting the hills,\\r\\n  Doing whatever the Spirit wills--\\r\\n  Rending a continent apart,\\r\\n  To answer the dream of the Master heart.\\r\\n  Thank God for a world where none may shirk--\\r\\n  Thank God for the splendor of work!\\r\\n\\r\\n\\r\\n_Angela Morgan._\\r\\n\\r\\nFrom \"The Hour Has Struck.\"\\r\\n\\r\\n\\r\\n\\r\\n\\r\\nHOW DID YOU DIE?\\r\\n\\r\\n\\r\\nGrant at Ft. Donelson demanded unconditional and immediate surrender. At\\r\\nAppomattox he offered as lenient terms as victor ever extended to\\r\\nvanquished. Why the difference? The one event was at the beginning of\\r\\nthe war, when the enemy\\'s morale must be shaken. The other was at the\\r\\nend of the conflict, when a brave and noble adversary had been rendered\\r\\nhelpless. In his quiet way Grant showed himself one of nature\\'s\\r\\ngentlemen. He also taught a great lesson. No honor can be too great for\\r\\nthe man, be he even our foe, who has steadily and uncomplainingly done\\r\\nhis very best--and has failed.\\r\\n\\r\\n\\r\\n  Did you tackle that trouble that came your way\\r\\n    With a resolute heart and cheerful?\\r\\n  Or hide your face from the light of day\\r\\n    With a craven soul and fearful?\\r\\n  Oh, a trouble\\'s a ton, or a trouble\\'s an ounce,\\r\\n    Or a trouble is what you make it,\\r\\n  And it isn\\'t the fact that you\\'re hurt that counts,\\r\\n    But only how did you take it?\\r\\n\\r\\n  You are beaten to earth? Well, well, what\\'s that!\\r\\n    Come up with a smiling face.\\r\\n  It\\'s nothing against you to fall down flat,\\r\\n    But to lie there--that\\'s disgrace.\\r\\n  The harder you\\'re thrown, why the higher you bounce\\r\\n    Be proud of your blackened eye!\\r\\n  It isn\\'t the fact that you\\'re licked that counts;\\r\\n    It\\'s how did you fight--and why?\\r\\n\\r\\n  And though you be done to the death, what then?\\r\\n    If you battled the best you could,\\r\\n  If you played your part in the world of men,\\r\\n    Why, the Critic will call it good.\\r\\n  Death comes with a crawl, or comes with a pounce,\\r\\n    And whether he\\'s slow or spry,\\r\\n  It isn\\'t the fact that you\\'re dead that counts,\\r\\n    But only how did you die?\\r\\n\\r\\n\\r\\n_Edmund Vance Cooke._\\r\\n\\r\\nFrom \"Impertinent Poems.\"\\r\\n\\r\\n\\r\\n\\r\\n\\r\\nA LESSON FROM HISTORY\\r\\n\\r\\n\\r\\nTo break the ice of an undertaking is difficult. To cross on broken ice,\\r\\nas Eliza did to freedom, or to row amid floating ice, as Washington did\\r\\nto victory, is harder still. This poem applies especially to those who\\r\\nare discouraged in a struggle to which they are already committed.\\r\\n\\r\\n\\r\\n  Everything\\'s easy after it\\'s done;\\r\\n  Every battle\\'s a \"cinch\" that\\'s won;\\r\\n  Every problem is clear that\\'s solved--\\r\\n  The earth was round when it _revolved!_\\r\\n  But Washington stood amid grave doubt\\r\\n  With enemy forces camped about;\\r\\n  He could not know how he would fare\\r\\n  Till _after_ he\\'d crossed the Delaware.\\r\\n\\r\\n  Though the river was full of ice\\r\\n  He did not think about it twice,\\r\\n  But started across in the dead of night,\\r\\n  The enemy waiting to open the fight.\\r\\n  Likely feeling pretty blue,\\r\\n  Being human, same as you,\\r\\n  But he was brave amid despair,\\r\\n  And Washington crossed the Delaware!\\r\\n\\r\\n  So when you\\'re with trouble beset,\\r\\n  And your spirits are soaking wet,\\r\\n  When all the sky with clouds is black,\\r\\n  Don\\'t lie down upon your back\\r\\n  And look at _them_. Just do the thing;\\r\\n  Though you are choked, still try to sing.\\r\\n  If times are dark, believe them fair,\\r\\n  And you will cross the Delaware!\\r\\n\\r\\n\\r\\n_Joseph Morris._\\r\\n\\r\\n\\r\\n\\r\\n\\r\\nRABBI BEN EZRA\\r\\n\\r\\n(SELECTED VERSES)\\r\\n\\r\\n\\r\\nTo some people success is everything, and the easier it is gained the\\r\\nbetter. To Browning success is nothing unless it is won by painful\\r\\neffort. What Browning values is struggle.', start_char_idx=44317, end_char_idx=48359, text_template='{metadata_str}\\n\\n{content}', metadata_template='{key}: {value}', metadata_seperator='\\n'), score=0.542513),\n",
       " NodeWithScore(node=TextNode(id_='63eec376-8b6d-44be-809e-1cad8e287bc5', embedding=None, metadata={'file_path': 'data/pg10763.txt', 'file_name': 'pg10763.txt', 'file_type': 'text/plain', 'file_size': 405159, 'creation_date': '2024-05-21', 'last_modified_date': '2024-05-05'}, excluded_embed_metadata_keys=['file_name', 'file_type', 'file_size', 'creation_date', 'last_modified_date', 'last_accessed_date'], excluded_llm_metadata_keys=['file_name', 'file_type', 'file_size', 'creation_date', 'last_modified_date', 'last_accessed_date'], relationships={<NodeRelationship.SOURCE: '1'>: RelatedNodeInfo(node_id='data/pg10763.txt', node_type=<ObjectType.DOCUMENT: '4'>, metadata={'file_path': 'data/pg10763.txt', 'file_name': 'pg10763.txt', 'file_type': 'text/plain', 'file_size': 405159, 'creation_date': '2024-05-21', 'last_modified_date': '2024-05-05'}, hash='ce8443a693c1546f39c6bb0336c4d2f7929dd66c58288850e8b2df75ffa28edb'), <NodeRelationship.PREVIOUS: '2'>: RelatedNodeInfo(node_id='f5720bbd-23c0-40f3-b757-68b2da2a718b', node_type=<ObjectType.TEXT: '1'>, metadata={'file_path': 'data/pg10763.txt', 'file_name': 'pg10763.txt', 'file_type': 'text/plain', 'file_size': 405159, 'creation_date': '2024-05-21', 'last_modified_date': '2024-05-05'}, hash='d0faeec37119cfb4dd655250d62aac5cb8e3841076c6fb344171a32e214cc120'), <NodeRelationship.NEXT: '3'>: RelatedNodeInfo(node_id='e3dbd0ae-9198-4283-9065-75ff7e58c9a5', node_type=<ObjectType.TEXT: '1'>, metadata={}, hash='95fbb077403f8a8f5864dd6fb583bc2bf4b080f2f5113e485754b627e6838979')}, text='Two little raindrops were born in a shower,\\r\\n  And one was so pompously proud of his power,\\r\\n  He got in his head an extravagant notion\\r\\n  He\\'d hustle right off and swallow the ocean.\\r\\n  A blade of grass that grew by the brook\\r\\n  Called for a drink, but no notice he took\\r\\n  Of such trifling things. He must hurry to be\\r\\n  Not a mere raindrop, but the whole sea.\\r\\n  A stranded ship needed water to float,\\r\\n  But he could not bother to help a boat.\\r\\n  He leaped in the sea with a puff and a blare--\\r\\n  And nobody even knew he was there!\\r\\n\\r\\n  But the other drop as along it went\\r\\n  Found the work to do for which it was sent:\\r\\n  It refreshed the lily that drooped its head,\\r\\n  And bathed the grass that was almost dead.\\r\\n  It got under the ships and helped them along,\\r\\n  And all the while sang a cheerful song.\\r\\n  It worked every step of the way it went,\\r\\n  Bringing joy to others, to itself content.\\r\\n  At last it came to its journey\\'s end,\\r\\n  And welcomed the sea as an old-time friend.\\r\\n  \"An ocean,\" it said, \"there could not be\\r\\n  Except for the millions of drops like me.\"\\r\\n\\r\\n\\r\\n_Joseph Morris,_\\r\\n\\r\\n\\r\\n\\r\\n\\r\\nMY WAGE\\r\\n\\r\\n\\r\\nWe may as well aim high as low, ask much as little. The world will not\\r\\nmiss what it gives us, and our reward will largely be governed by our\\r\\ndemands.\\r\\n\\r\\n\\r\\n  I bargained with Life for a penny,\\r\\n  And Life would pay no more,\\r\\n  However I begged at evening\\r\\n  When I counted my scanty store;\\r\\n\\r\\n  For Life is a just employer,\\r\\n  He gives you what you ask,\\r\\n  But once you have set the wages,\\r\\n  Why, you must bear the task.\\r\\n\\r\\n  I worked for a menial\\'s hire,\\r\\n  Only to learn, dismayed,\\r\\n  That any wage I had asked of Life,\\r\\n  Life would have paid.\\r\\n\\r\\n\\r\\n_Jessie B. Rittenhouse._\\r\\n\\r\\nFrom \"The Door of Dreams.\"\\r\\n\\r\\n\\r\\n\\r\\n\\r\\n\\r\\nTHE GIFT\\r\\n\\r\\n\\r\\n\"Trust thyself,\" says Emerson; \"every heart vibrates to that iron\\r\\nstring.\" This is wholesome and inspiring advice, but there is, as always,\\r\\nanother side to the question. Many a man falls into absurdities and\\r\\nmistakes because he cannot get outside of himself and look at himself\\r\\nfrom other people\\'s eyes. We should cultivate the ability to see\\r\\neverything, including ourselves, from more than one standpoint.\\r\\n\\r\\n\\r\\n  O wad some Pow\\'r the giftie gie us\\r\\n    To see oursels as ithers see us!\\r\\n  It wad frae mony a blunder free us,\\r\\n    And foolish notion;\\r\\n  What airs in dress an\\' gait wad lea\\'e us,\\r\\n    And ev\\'n devotion!\\r\\n\\r\\n\\r\\n_Robert Burns._\\r\\n\\r\\n\\r\\n\\r\\n\\r\\nPROMETHEUS UNBOUND\\r\\n\\r\\n\\r\\nIn the poem from which this excerpt is taken, Prometheus the Titan has\\r\\nbeen cruelly tortured for opposing the malignant will of Jupiter. In the\\r\\nend Prometheus wins a complete outward victory. Better still, by his\\r\\nsteadfastness and high purpose he has won a great inward triumph. The\\r\\nspirit that has actuated him and the nature of his achievement are\\r\\nexpressed in the following lines.\\r\\n\\r\\n\\r\\n  To suffer woes which Hope thinks infinite;\\r\\n  To forgive wrongs darker than death or night;\\r\\n    To defy Power, which seems omnipotent;\\r\\n  To love, and bear; to hope till Hope creates\\r\\n  From its own wreck the thing it contemplates;\\r\\n    Neither to change, nor falter, nor repent;\\r\\n  This, like thy glory, Titan, is to be\\r\\n  Good, great and joyous, beautiful and free;\\r\\n  This is alone Life, Joy, Empire, and Victory.\\r\\n\\r\\n\\r\\n_Percy Bysshe Shelley._\\r\\n\\r\\n\\r\\n\\r\\n\\r\\nVICTORY IN DEFEAT\\r\\n\\r\\n\\r\\nThe great, radiant souls of earth--the Davids, the Shakespeares, the\\r\\nLincolns--know grief and affliction as well as joy and triumph. But\\r\\nadversity is never to them mere adversity; it\\r\\n\\r\\n  \"Doth suffer a sea-change\\r\\n  Into something rich and strange\";\\r\\n\\r\\nand in the crucible of character their suffering itself is transmuted\\r\\ninto song.\\r\\n\\r\\n\\r\\n  Defeat may serve as well as victory\\r\\n  To shake the soul and let the glory out.\\r\\n  When the great oak is straining in the wind,\\r\\n  The boughs drink in new beauty, and the trunk\\r\\n  Sends down a deeper root on the windward side.\\r\\n  Only the soul that knows the mighty grief\\r\\n  Can know the mighty rapture. Sorrows come\\r\\n  To stretch out spaces in the heart for joy.', start_char_idx=271946, end_char_idx=275964, text_template='{metadata_str}\\n\\n{content}', metadata_template='{key}: {value}', metadata_seperator='\\n'), score=0.5129157),\n",
       " NodeWithScore(node=TextNode(id_='db48bc95-404f-4b97-b275-fb81c448a7dd', embedding=None, metadata={'file_path': 'data/pg10763.txt', 'file_name': 'pg10763.txt', 'file_type': 'text/plain', 'file_size': 405159, 'creation_date': '2024-05-21', 'last_modified_date': '2024-05-05'}, excluded_embed_metadata_keys=['file_name', 'file_type', 'file_size', 'creation_date', 'last_modified_date', 'last_accessed_date'], excluded_llm_metadata_keys=['file_name', 'file_type', 'file_size', 'creation_date', 'last_modified_date', 'last_accessed_date'], relationships={<NodeRelationship.SOURCE: '1'>: RelatedNodeInfo(node_id='data/pg10763.txt', node_type=<ObjectType.DOCUMENT: '4'>, metadata={'file_path': 'data/pg10763.txt', 'file_name': 'pg10763.txt', 'file_type': 'text/plain', 'file_size': 405159, 'creation_date': '2024-05-21', 'last_modified_date': '2024-05-05'}, hash='ce8443a693c1546f39c6bb0336c4d2f7929dd66c58288850e8b2df75ffa28edb'), <NodeRelationship.PREVIOUS: '2'>: RelatedNodeInfo(node_id='3df13a37-2fe4-4967-ad7a-57acc5619279', node_type=<ObjectType.TEXT: '1'>, metadata={'file_path': 'data/pg10763.txt', 'file_name': 'pg10763.txt', 'file_type': 'text/plain', 'file_size': 405159, 'creation_date': '2024-05-21', 'last_modified_date': '2024-05-05'}, hash='3e5c8796bf022cfa40ee6ed8d38c80897b99edccc7f850337f98b7c71dd635fe'), <NodeRelationship.NEXT: '3'>: RelatedNodeInfo(node_id='16dd177d-ee40-4523-8442-0e48296679fe', node_type=<ObjectType.TEXT: '1'>, metadata={}, hash='814ae154736e305dee17e52f0cf348ee0b558b250660d5fce1b181ea6dd6cfbc')}, text='Gates_\\r\\n\\r\\n\\r\\n\\r\\n\\r\\n\\r\\nIT CAN BE DONE\\r\\n\\r\\n\\r\\n\\r\\n\\r\\nBE THE BEST OF WHATEVER YOU ARE\\r\\n\\r\\n\\r\\nWe all dream of great deeds and high positions, away from the pettiness\\r\\nand humdrum of ordinary life. Yet success is not occupying a lofty place\\r\\nor doing conspicuous work; it is being the best that is in you. Rattling\\r\\naround in too big a job is much worse than filling a small one to\\r\\noverflowing. Dream, aspire by all means; but do not ruin the life you\\r\\nmust lead by dreaming pipe-dreams of the one you would like to lead.\\r\\nMake the most of what you have and are. Perhaps your trivial, immediate\\r\\ntask is your one sure way of proving your mettle. Do the thing near at\\r\\nhand, and great things will come to your hand to be done.\\r\\n\\r\\n\\r\\n  If you can\\'t be a pine on the top of the hill\\r\\n    Be a scrub in the valley--but be\\r\\n  The best little scrub by the side of the rill;\\r\\n    Be a bush if you can\\'t be a tree.\\r\\n\\r\\n  If you can\\'t be a bush be a bit of the grass,\\r\\n    And some highway some happier make;\\r\\n  If you can\\'t be a muskie then just be a bass--\\r\\n    But the liveliest bass in the lake!\\r\\n\\r\\n  We can\\'t all be captains, we\\'ve got to be crew,\\r\\n    There\\'s something for all of us here.\\r\\n  There\\'s big work to do and there\\'s lesser to do,\\r\\n    And the task we must do is the near.\\r\\n\\r\\n  If you can\\'t be a highway then just be a trail,\\r\\n    If you can\\'t be the sun be a star;\\r\\n  It isn\\'t by size that you win or you fail--\\r\\n    Be the best of whatever you are!\\r\\n\\r\\n\\r\\n_Douglas Malloch._\\r\\n\\r\\n\\r\\n\\r\\n\\r\\nTHE HOUSE BY THE SIDE OF THE ROAD\\r\\n\\r\\n\\r\\nThis poem has as its keynote friendship and sympathy for other people.\\r\\nIt is a paradox of life that by hoarding love and happiness we lose\\r\\nthem, and that only by giving them away can we keep them for ourselves.\\r\\nThe more we share, the more we possess. We of course find in other\\r\\npeople weaknesses and sins, but our best means of curing these are\\r\\nthrough a wise and sympathetic understanding.\\r\\n\\r\\n\\r\\n  Let me live in a house by the side of the road,\\r\\n    Where the race of men go by--\\r\\n  The men who are good and the men who are bad,\\r\\n    As good and as bad as I.\\r\\n  I would not sit in the scorner\\'s seat,\\r\\n    Or hurl the cynic\\'s ban;--\\r\\n  Let me live in a house by the side of the road\\r\\n    And be a friend to man.\\r\\n\\r\\n  I see from my house by the side of the road,\\r\\n    By the side of the highway of life,\\r\\n  The men who press with the ardor of hope,\\r\\n    The men who are faint with the strife.\\r\\n  But I turn not away from their smiles nor their tears--\\r\\n    Both parts of an infinite plan;--\\r\\n  Let me live in my house by the side of the road\\r\\n    And be a friend to man.\\r\\n\\r\\n  I know there are brook-gladdened meadows ahead\\r\\n    And mountains of wearisome height;\\r\\n  And the road passes on through the long afternoon\\r\\n    And stretches away to the night.\\r\\n  But still I rejoice when the travelers rejoice,\\r\\n    And weep with the strangers that moan,\\r\\n  Nor live in my house by the side of the road\\r\\n    Like a man who dwells alone.\\r\\n\\r\\n  Let me live in my house by the side of the road\\r\\n    Where the race of men go by--\\r\\n  They are good, they are bad, they are weak, they are strong,\\r\\n    Wise, foolish--so am I.\\r\\n  Then why should I sit in the scorner\\'s seat\\r\\n    Or hurl the cynic\\'s ban?--\\r\\n  Let me live in my house by the side of the road\\r\\n    And be a friend to man.\\r\\n\\r\\n\\r\\n_Sam Walter Foss._\\r\\n\\r\\nFrom \"Dreams in Homespun.\"\\r\\n\\r\\n\\r\\n\\r\\n\\r\\nFOUR THINGS\\r\\n\\r\\n\\r\\nWhat are the qualities of ideal manhood? Various people have given\\r\\nvarious answers to this question. Here the poet states what qualities he\\r\\nthinks indispensable.\\r\\n\\r\\n\\r\\n  Four things a man must learn to do\\r\\n  If he would make his record true:\\r\\n  To think without confusion clearly;\\r\\n  To love his fellow-men sincerely;\\r\\n  To act from honest motives purely;\\r\\n  To trust in God and Heaven securely.\\r\\n\\r\\n\\r\\n_Henry Van Dyke._\\r\\n\\r\\nFrom \"Collected Poems.\"\\r\\n\\r\\n\\r\\n\\r\\n\\r\\nIF\\r\\n\\r\\n\\r\\nThe central idea of this poem is that success comes from self-control\\r\\nand a true sense of the values of things. In extremes lies danger.', start_char_idx=18162, end_char_idx=22133, text_template='{metadata_str}\\n\\n{content}', metadata_template='{key}: {value}', metadata_seperator='\\n'), score=0.50349367),\n",
       " NodeWithScore(node=TextNode(id_='08c432a5-ea94-49e5-bb1b-c506d4476eb6', embedding=None, metadata={'file_path': 'data/pg10763.txt', 'file_name': 'pg10763.txt', 'file_type': 'text/plain', 'file_size': 405159, 'creation_date': '2024-05-21', 'last_modified_date': '2024-05-05'}, excluded_embed_metadata_keys=['file_name', 'file_type', 'file_size', 'creation_date', 'last_modified_date', 'last_accessed_date'], excluded_llm_metadata_keys=['file_name', 'file_type', 'file_size', 'creation_date', 'last_modified_date', 'last_accessed_date'], relationships={<NodeRelationship.SOURCE: '1'>: RelatedNodeInfo(node_id='data/pg10763.txt', node_type=<ObjectType.DOCUMENT: '4'>, metadata={'file_path': 'data/pg10763.txt', 'file_name': 'pg10763.txt', 'file_type': 'text/plain', 'file_size': 405159, 'creation_date': '2024-05-21', 'last_modified_date': '2024-05-05'}, hash='ce8443a693c1546f39c6bb0336c4d2f7929dd66c58288850e8b2df75ffa28edb'), <NodeRelationship.PREVIOUS: '2'>: RelatedNodeInfo(node_id='fac69864-7e1e-4f99-9414-363d2b9e313e', node_type=<ObjectType.TEXT: '1'>, metadata={'file_path': 'data/pg10763.txt', 'file_name': 'pg10763.txt', 'file_type': 'text/plain', 'file_size': 405159, 'creation_date': '2024-05-21', 'last_modified_date': '2024-05-05'}, hash='f0be34c6228fa530870f5756e9d36694c62ee3b034aa1deef216b5f177be1e6a'), <NodeRelationship.NEXT: '3'>: RelatedNodeInfo(node_id='b8fd2d25-d3c7-46e2-93e9-bca23a76183e', node_type=<ObjectType.TEXT: '1'>, metadata={}, hash='a6d6e0817583a19546455c421a719d77726dd9ea34c7bcec5dfb9adfc504b76f')}, text='O! let not virtue seek\\r\\n  Remuneration for the thing it was; for beauty, wit,\\r\\n  High birth, vigor of bone, desert in service,\\r\\n  Love, friendship, charity, are subjects all\\r\\n  To envious and calumniating time.\\r\\n  One touch of nature makes the whole world kin,\\r\\n  That all with one consent praise new-born gawds,\\r\\n  Though they are made and moulded of things past,\\r\\n  And give to dust that is a little gilt\\r\\n  More laud than gilt o\\'er-dusted.\\r\\n  The present eye praises the present object,\\r\\n  Since things in motion sooner catch the eye\\r\\n  Than what not stirs.\\r\\n\\r\\n\\r\\n_William Shakespeare._\\r\\n\\r\\n\\r\\n\\r\\n\\r\\nFAITH\\r\\n\\r\\n\\r\\nFaith is not a passive thing--mere believing or waiting. It is an active\\r\\nthing--a positive striving and achievement, even if conditions be\\r\\nuntoward.\\r\\n\\r\\n\\r\\n  Faith is not merely praying\\r\\n    Upon your knees at night;\\r\\n  Faith is not merely straying\\r\\n    Through darkness to the light.\\r\\n\\r\\n  Faith is not merely waiting\\r\\n    For glory that may be,\\r\\n  Faith is not merely hating\\r\\n    The sinful ecstasy.\\r\\n\\r\\n  Faith is the brave endeavor\\r\\n    The splendid enterprise,\\r\\n  The strength to serve, whatever\\r\\n    Conditions may arise.\\r\\n\\r\\n\\r\\n_S.E. Kiser._\\r\\n\\r\\n\\r\\n\\r\\n\\r\\nOPPORTUNITY\\r\\n\\r\\n\\r\\nWhat is opportunity? To the brilliant mind of Senator Ingalls it is a\\r\\nstupendous piece of luck. It comes once and once only to every human\\r\\nbeing, wise or foolish, good or wicked. If it be not perceived on the\\r\\ninstant, it passes by forever. No longing for it, no effort, can bring\\r\\nit back. Notice that this view is fatalistic; it makes opportunity an\\r\\nexternal thing--one that enriches men or leaves their lives empty\\r\\nwithout much regard to what they deserve.\\r\\n\\r\\n\\r\\n  Master of human destinies am I!\\r\\n  Fame, love, and fortune on my footsteps wait.\\r\\n  Cities and fields I walk; I penetrate\\r\\n  Deserts and seas remote, and passing by\\r\\n  Hovel and mart and palace--soon or late\\r\\n  I knock, unbidden, once at every gate!\\r\\n  If sleeping, wake--if feasting, rise before\\r\\n  I turn away. It is the hour of fate,\\r\\n  And they who follow me reach every state\\r\\n  Mortals desire, and conquer every foe\\r\\n  Save death; but those who doubt or hesitate,\\r\\n  Condemned to failure, penury, and woe,\\r\\n  Seek me in vain and uselessly implore.\\r\\n  I answer not, and I return no more!\\r\\n\\r\\n\\r\\n_John James Ingalls._\\r\\n\\r\\n\\r\\n\\r\\n\\r\\nOPPORTUNITY\\r\\n\\r\\n\\r\\nThere is a tide in the affairs of men,\\r\\nWhich, taken at the flood, leads on to fortune;\\r\\nOmitted, all the voyage of their life\\r\\nIs bound in shallows and in miseries.\\r\\nOn such a full sea are we now afloat;\\r\\nAnd we must take the current when it serves,\\r\\nOr lose our ventures.\\r\\n\\r\\n\\r\\n_William Shakespeare._\\r\\n\\r\\n\\r\\n\\r\\n\\r\\nOPPORTUNITY\\r\\n\\r\\n\\r\\nTo the thought of the preceding poem we have here a direct answer. No\\r\\nmatter how a man may have failed in the past, the door of opportunity is\\r\\nalways open to him. He should not give way to useless regrets; he should\\r\\nknow that the future is within his control, that it will be what he\\r\\nchooses to make it.\\r\\n\\r\\n\\r\\n  They do me wrong who say I come no more\\r\\n    When once I knock and fail to find you in;\\r\\n  For every day I stand outside your door,\\r\\n    And bid you wake, and rise to fight and win.\\r\\n\\r\\n  Wail not for precious chances passed away,\\r\\n    Weep not for golden ages on the wane!\\r\\n  Each night I burn the records of the day,--\\r\\n    At sunrise every soul is born again!\\r\\n\\r\\n  Laugh like a boy at splendors that have sped,\\r\\n    To vanished joys be blind and deaf and dumb;\\r\\n  My judgments seal the dead past with its dead,\\r\\n    But never bind a moment yet to come.\\r\\n\\r\\n  Though deep in mire, wring not your hands and weep;\\r\\n    I lend my arm to all who say \"I can!\"\\r\\n  No shame-faced outcast ever sank so deep,\\r\\n    But yet might rise and be again a man!\\r\\n\\r\\n  Dost thou behold thy lost youth all aghast?\\r\\n    Dost reel from righteous Retribution\\'s blow?\\r\\n  Then turn from blotted archives of the past,\\r\\n    And find the future\\'s pages white as snow.\\r\\n\\r\\n  Art thou a mourner? Rouse thee from thy spell;\\r\\n    Art thou a sinner? Sins may be forgiven;\\r\\n  Each morning gives thee wings to flee from hell,\\r\\n    Each night a star to guide thy feet to heaven.', start_char_idx=93352, end_char_idx=97432, text_template='{metadata_str}\\n\\n{content}', metadata_template='{key}: {value}', metadata_seperator='\\n'), score=0.49934465),\n",
       " NodeWithScore(node=TextNode(id_='1e4ee254-468c-4f69-a6af-6e0c5ddc71df', embedding=None, metadata={'file_path': 'data/pg10763.txt', 'file_name': 'pg10763.txt', 'file_type': 'text/plain', 'file_size': 405159, 'creation_date': '2024-05-21', 'last_modified_date': '2024-05-05'}, excluded_embed_metadata_keys=['file_name', 'file_type', 'file_size', 'creation_date', 'last_modified_date', 'last_accessed_date'], excluded_llm_metadata_keys=['file_name', 'file_type', 'file_size', 'creation_date', 'last_modified_date', 'last_accessed_date'], relationships={<NodeRelationship.SOURCE: '1'>: RelatedNodeInfo(node_id='data/pg10763.txt', node_type=<ObjectType.DOCUMENT: '4'>, metadata={'file_path': 'data/pg10763.txt', 'file_name': 'pg10763.txt', 'file_type': 'text/plain', 'file_size': 405159, 'creation_date': '2024-05-21', 'last_modified_date': '2024-05-05'}, hash='ce8443a693c1546f39c6bb0336c4d2f7929dd66c58288850e8b2df75ffa28edb'), <NodeRelationship.PREVIOUS: '2'>: RelatedNodeInfo(node_id='ea3ba1f5-963c-4b88-a0e8-8e803b54b20e', node_type=<ObjectType.TEXT: '1'>, metadata={'file_path': 'data/pg10763.txt', 'file_name': 'pg10763.txt', 'file_type': 'text/plain', 'file_size': 405159, 'creation_date': '2024-05-21', 'last_modified_date': '2024-05-05'}, hash='73a4808226a66c51b0dc1deb0af3974cb85af0afd36867901e57d12f52697228'), <NodeRelationship.NEXT: '3'>: RelatedNodeInfo(node_id='bfb242e7-7a23-4cee-855b-2bb7e2aa5ae3', node_type=<ObjectType.TEXT: '1'>, metadata={}, hash='856d951cc818f61a0249519cbac1e03531b28716386fd01e69d2a860c5f62370')}, text='To persist in them requires quiet strength and unfaltering\\r\\ncourage.\\r\\n\\r\\n\\r\\n  Did you ever want to take your two bare hands,\\r\\n    And choke out of the world your big success?\\r\\n  Beat, torn fists bleeding, pathways rugged, grand,\\r\\n    By sheer brute strength and bigness, nothing less?\\r\\n  So at the last, triumphant, battered, strong,\\r\\n    You might gaze down on what you choked and beat,\\r\\n  And say, \"Ah, world, you\\'ve wrought to do me wrong;\\r\\n    And thus have I accepted my defeat.\"\\r\\n\\r\\n  Have you ever dreamed of virile deeds, and vast,\\r\\n    And then come back from dreams with wobbly knees,\\r\\n  To find your way (the braver vision past),\\r\\n    By picking meekly at typewriter keys;\\r\\n  By bending o\\'er a ledger, day by day,\\r\\n    By some machine-like drudging? No great woe\\r\\n  To grapple with. Slow, painful is the way,\\r\\n    And still, the bravest fight and conquer so.\\r\\n\\r\\n\\r\\n_Miriam Teichner._\\r\\n\\r\\n\\r\\n\\r\\n\\r\\nHOLD FAST\\r\\n\\r\\n\\r\\nA football coach who told his players that their rivals were too strong\\r\\nfor them would be seeking a new position the next year. If the opposing\\r\\nteam is formidable, he says so; if his men have their work cut out for\\r\\nthem, he admits it; but he mentions these things as incitements to\\r\\neffort. Merely saying of victory that it can be won is among the surest\\r\\nways of winning it.\\r\\n\\r\\n\\r\\n  When you\\'re nearly drowned in trouble, and the world is dark as ink;\\r\\n    When you feel yourself a-sinking \\'neath the strain,\\r\\n  And you think, \"I\\'ve got to holler \\'Help!\\'\" just take another breath\\r\\n    And pretend you\\'ve lost your voice--and can\\'t complain!\\r\\n      (That\\'s the idea!)\\r\\n    Pretend you\\'ve lost your voice and can\\'t complain!\\r\\n\\r\\n  When the future glowers at you like a threatening thunder cloud,\\r\\n    Just grit your teeth and bend your head and say:\\r\\n  \"It\\'s dark and disagreeable and I can\\'t help feeling blue,\\r\\n    But there\\'s coming sure as fate a brighter day!\"\\r\\n      (Say it slowly!)\\r\\n    \"But there\\'s coming sure as fate, a brighter day!\"\\r\\n\\r\\n  You have bluffed your way through ticklish situations; that I know.\\r\\n    You are looking back on troubles past and gone;\\r\\n  Now, turn the tables, and as you have fought and won before,\\r\\n    Just BLUFF YOURSELF to keep on holding on!\\r\\n      (Try it once.)\\r\\n  Just bluff YOURSELF to keep on--holding on.\\r\\n\\r\\n  Don\\'t worry if the roseate hues of life are faded out,\\r\\n    Bend low before the storm and wait awhile.\\r\\n  The pendulum is bound to swing again and you will find\\r\\n    That you have not forgotten how to smile.\\r\\n      (That\\'s the truth!)\\r\\n    That you have not forgotten how to smile.\\r\\n\\r\\n\\r\\n_Everard Jack Appleton._\\r\\n\\r\\nFrom \"The Quiet Courage.\"\\r\\n\\r\\n\\r\\n\\r\\n[Illustration: JOHN KENDRICK BANGS]\\r\\n\\r\\n\\r\\n\\r\\n\\r\\nWILL\\r\\n\\r\\n\\r\\nWarren Hastings resolved in his boyhood that he would be the owner of\\r\\nthe estate known as Daylesford. This was the one great purpose that\\r\\nunified his varied and far-reaching activities. Admire him or not, we\\r\\nmust at least praise his pluck in holding to his purpose--a purpose he\\r\\nultimately attained.\\r\\n\\r\\n\\r\\n  You will be what you will to be;\\r\\n    Let failure find its false content\\r\\n  In that poor word \"environment,\"\\r\\n    But spirit scorns it, and is free.\\r\\n\\r\\n  It masters time, it conquers space,\\r\\n    It cowes that boastful trickster Chance,\\r\\n  And bids the tyrant Circumstance\\r\\n    Uncrown and fill a servant\\'s place.\\r\\n\\r\\n  The human Will, that force unseen,\\r\\n    The offspring of a deathless Soul,\\r\\n  Can hew the way to any goal,\\r\\n    Though walls of granite intervene.\\r\\n\\r\\n  Be not impatient in delay,\\r\\n    But wait as one who understands;\\r\\n  When spirit rises and commands\\r\\n    The gods are ready to obey.\\r\\n\\r\\n  The river seeking for the sea\\r\\n    Confronts the dam and precipice,\\r\\n  Yet knows it cannot fail or miss;\\r\\n    _You will be what you will to be!_\\r\\n\\r\\n\\r\\n_Ella Wheeler Wilcox._\\r\\n\\r\\nFrom \"Poems of Power.\"\\r\\n\\r\\n\\r\\n\\r\\n\\r\\nTHE GAME\\r\\n\\r\\n\\r\\nLessing said that if God should come to him with truth in one hand and\\r\\nthe never-ending pursuit of truth in the other, and should offer him his\\r\\nchoice, he would humbly and reverently take the pursuit of truth.\\r\\nPerhaps it is best that finite beings should not attain infinite\\r\\nsuccess.', start_char_idx=167118, end_char_idx=171222, text_template='{metadata_str}\\n\\n{content}', metadata_template='{key}: {value}', metadata_seperator='\\n'), score=0.48429307)]"
      ]
     },
     "execution_count": 13,
     "metadata": {},
     "output_type": "execute_result"
    }
   ],
   "source": [
    "retirever.retrieve(\"What lessons can be learned from the poems about success?\")"
   ]
  },
  {
   "cell_type": "markdown",
   "metadata": {},
   "source": [
    "But, chances are you don't just want the returned documents. You want the documents to be synthesized into a response. \n",
    "\n",
    "So, let's build on this pattern in the next lesson and see how we can get a response based on those retrieved documents."
   ]
  },
  {
   "cell_type": "code",
   "execution_count": 14,
   "metadata": {},
   "outputs": [],
   "source": [
    "# close the client so you're not locked out of the index\n",
    "client.close()"
   ]
  },
  {
   "cell_type": "code",
   "execution_count": null,
   "metadata": {},
   "outputs": [],
   "source": []
  }
 ],
 "metadata": {
  "kernelspec": {
   "display_name": "py311",
   "language": "python",
   "name": "python3"
  },
  "language_info": {
   "codemirror_mode": {
    "name": "ipython",
    "version": 3
   },
   "file_extension": ".py",
   "mimetype": "text/x-python",
   "name": "python",
   "nbconvert_exporter": "python",
   "pygments_lexer": "ipython3",
   "version": "3.10.0"
  }
 },
 "nbformat": 4,
 "nbformat_minor": 2
}
