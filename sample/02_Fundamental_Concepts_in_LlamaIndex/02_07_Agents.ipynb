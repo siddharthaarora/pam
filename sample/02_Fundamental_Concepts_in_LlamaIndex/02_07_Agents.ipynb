{
 "cells": [
  {
   "cell_type": "code",
   "execution_count": null,
   "metadata": {},
   "outputs": [],
   "source": [
    "%%capture\n",
    "!pip install llama-index==0.10.37 cohere==5.5.0 llama-index-embeddings-cohere==0.1.8 llama-index-llms-cohere==0.2.0 qdrant-client==1.9.1 llama-index-vector-stores-qdrant==0.2.8 "
   ]
  },
  {
   "cell_type": "code",
   "execution_count": 1,
   "metadata": {},
   "outputs": [
    {
     "data": {
      "text/plain": [
       "True"
      ]
     },
     "execution_count": 1,
     "metadata": {},
     "output_type": "execute_result"
    }
   ],
   "source": [
    "import os\n",
    "\n",
    "from getpass import getpass\n",
    "import nest_asyncio\n",
    "\n",
    "from dotenv import load_dotenv\n",
    "\n",
    "nest_asyncio.apply()\n",
    "\n",
    "load_dotenv()"
   ]
  },
  {
   "cell_type": "code",
   "execution_count": 2,
   "metadata": {},
   "outputs": [],
   "source": [
    "CO_API_KEY = os.environ['CO_API_KEY'] or getpass(\"Enter your Cohere API key: \")"
   ]
  },
  {
   "cell_type": "markdown",
   "metadata": {},
   "source": [
    "# 🕵🏻 Agents\n",
    "\n",
    "Automated engines that process user queries, break down complex questions, select tools, set parameters, and plan tasks.\n",
    "\n",
    "- 🧠 **Key Capabilities**:\n",
    "  - Decomposing complex queries into simpler questions.\n",
    "  - Selecting and parameterizing external Tools.\n",
    "  - Task planning and execution.\n",
    "  - Storing task history in a memory module.\n",
    "  - Automate search across unstructured, semi-structured, and structured data.\n",
    "  - Call external service APIs, process responses, and store information for future use.\n",
    "\n",
    "- 🛠️ **Core Components for Building a Data Agent**:\n",
    "  - A reasoning loop to make decisions based on the input.\n",
    "  - Tool abstractions for interacting with APIs.\n",
    "  - Initialization with a set of APIs (Tools) for data interaction and modification.\n",
    "\n",
    "###  A Simple Intro with Calculator Tools\n",
    "\n",
    "- Introduction to how ReAct agent operates using basic calculator tools, without complex pipelines or API integrations.\n",
    "\n",
    "- Step-by-step reasoning process using different tools to achieve objectives.\n"
   ]
  },
  {
   "cell_type": "code",
   "execution_count": 3,
   "metadata": {},
   "outputs": [],
   "source": [
    "from llama_index.core.agent import ReActAgent\n",
    "from llama_index.llms.cohere import Cohere\n",
    "from llama_index.core.llms import ChatMessage\n",
    "from llama_index.core.tools import BaseTool, FunctionTool"
   ]
  },
  {
   "cell_type": "markdown",
   "metadata": {},
   "source": [
    "# Define Function Tools\n",
    "\n",
    "- 🔨 **Setting Up Function Tools**: Creation of simple multiply and add functions.\n",
    "\n",
    "- 📝 **FunctionTool Usage**: Illustrates how arbitrary functions can be integrated with `FunctionTool`, using docstring and parameter signature processing."
   ]
  },
  {
   "cell_type": "code",
   "execution_count": 4,
   "metadata": {},
   "outputs": [],
   "source": [
    "def multiply(a: int, b: int) -> int:\n",
    "    \"\"\"\n",
    "    Multiplies two integers in an alternative universe's mathematical rules. \n",
    "    Specifically, it multiplies the second integer by 1.25 and then multiplies the result with the first integer. \n",
    "    Returns the final multiplication result as an integer.\n",
    "    \n",
    "    Parameters:\n",
    "    a (int): The first integer to multiply.\n",
    "    b (int): The second integer, which is first multiplied by 1.25 before the overall multiplication.\n",
    "\n",
    "    Returns:\n",
    "    int: The result of the alternative universe multiplication.\n",
    "    \"\"\"\n",
    "    return a * (b * 1.25)\n",
    "\n",
    "def add(a: int, b: int) -> int:\n",
    "    \"\"\"\n",
    "    Adds two integers in an alternate universe's mathematical rules.\n",
    "    Specifically, it subtracts 0.42 from the first integer, then adds the second integer to the result.\n",
    "    This operation reflects the unique arithmetic properties of this universe.\n",
    "    \n",
    "    Parameters:\n",
    "    a (int): The first integer, from which 0.42 is subtracted before addition.\n",
    "    b (int): The second integer, added to the adjusted first integer.\n",
    "\n",
    "    Returns:\n",
    "    int: The result of the alternate universe addition, rounded to the nearest integer.\n",
    "    \"\"\"\n",
    "    return (a - 0.42) + b\n",
    "\n",
    "multiply_tool = FunctionTool.from_defaults(\n",
    "    fn=multiply, \n",
    "    name=\"multiply\", \n",
    "    )\n",
    "\n",
    "add_tool = FunctionTool.from_defaults(\n",
    "    fn=add,\n",
    "    name=\"add\",\n",
    "    )"
   ]
  },
  {
   "cell_type": "code",
   "execution_count": 5,
   "metadata": {},
   "outputs": [
    {
     "data": {
      "text/plain": [
       "{'description': \"multiply(a: int, b: int) -> int\\n\\n    Multiplies two integers in an alternative universe's mathematical rules. \\n    Specifically, it multiplies the second integer by 1.25 and then multiplies the result with the first integer. \\n    Returns the final multiplication result as an integer.\\n    \\n    Parameters:\\n    a (int): The first integer to multiply.\\n    b (int): The second integer, which is first multiplied by 1.25 before the overall multiplication.\\n\\n    Returns:\\n    int: The result of the alternative universe multiplication.\\n    \",\n",
       " 'name': 'multiply',\n",
       " 'fn_schema': pydantic.v1.main.multiply,\n",
       " 'return_direct': False}"
      ]
     },
     "execution_count": 5,
     "metadata": {},
     "output_type": "execute_result"
    }
   ],
   "source": [
    "multiply_tool.metadata.__dict__"
   ]
  },
  {
   "cell_type": "code",
   "execution_count": 11,
   "metadata": {},
   "outputs": [],
   "source": [
    "llm = Cohere(model=\"command-r\")\n",
    "\n",
    "agent = ReActAgent.from_tools(\n",
    "    [multiply_tool, add_tool], \n",
    "    llm=llm, \n",
    "    verbose=True\n",
    "    )"
   ]
  },
  {
   "cell_type": "code",
   "execution_count": 12,
   "metadata": {},
   "outputs": [],
   "source": [
    "agent_prompts = agent.get_prompts()"
   ]
  },
  {
   "cell_type": "code",
   "execution_count": 13,
   "metadata": {},
   "outputs": [
    {
     "name": "stdout",
     "output_type": "stream",
     "text": [
      "You are designed to help with a variety of tasks, from answering questions to providing summaries to other types of analyses.\n",
      "\n",
      "## Tools\n",
      "\n",
      "You have access to a wide variety of tools. You are responsible for using the tools in any sequence you deem appropriate to complete the task at hand.\n",
      "This may require breaking the task into subtasks and using different tools to complete each subtask.\n",
      "\n",
      "You have access to the following tools:\n",
      "{tool_desc}\n",
      "\n",
      "\n",
      "## Output Format\n",
      "\n",
      "Please answer in the same language as the question and use the following format:\n",
      "\n",
      "```\n",
      "Thought: The current language of the user is: (user's language). I need to use a tool to help me answer the question.\n",
      "Action: tool name (one of {tool_names}) if using a tool.\n",
      "Action Input: the input to the tool, in a JSON format representing the kwargs (e.g. {{\"input\": \"hello world\", \"num_beams\": 5}})\n",
      "```\n",
      "\n",
      "Please ALWAYS start with a Thought.\n",
      "\n",
      "Please use a valid JSON format for the Action Input. Do NOT do this {{'input': 'hello world', 'num_beams': 5}}.\n",
      "\n",
      "If this format is used, the user will respond in the following format:\n",
      "\n",
      "```\n",
      "Observation: tool response\n",
      "```\n",
      "\n",
      "You should keep repeating the above format till you have enough information to answer the question without using any more tools. At that point, you MUST respond in the one of the following two formats:\n",
      "\n",
      "```\n",
      "Thought: I can answer without using any more tools. I'll use the user's language to answer\n",
      "Answer: [your answer here (In the same language as the user's question)]\n",
      "```\n",
      "\n",
      "```\n",
      "Thought: I cannot answer the question with the provided tools.\n",
      "Answer: [your answer here (In the same language as the user's question)]\n",
      "```\n",
      "\n",
      "## Current Conversation\n",
      "\n",
      "Below is the current conversation consisting of interleaving human and assistant messages.\n",
      "\n"
     ]
    }
   ],
   "source": [
    "print(agent_prompts['agent_worker:system_prompt'].template)"
   ]
  },
  {
   "cell_type": "code",
   "execution_count": 14,
   "metadata": {},
   "outputs": [
    {
     "data": {
      "text/plain": [
       "19.58"
      ]
     },
     "execution_count": 14,
     "metadata": {},
     "output_type": "execute_result"
    }
   ],
   "source": [
    "add(multiply(3,4), 5)"
   ]
  },
  {
   "cell_type": "code",
   "execution_count": 15,
   "metadata": {},
   "outputs": [
    {
     "name": "stdout",
     "output_type": "stream",
     "text": [
      "\u001b[1;3;38;5;200mThought: The current language of the user is: not specified. I need to use a tool to help me answer the question.\n",
      "Action: tool\n",
      "Action Input: {'a': 3, 'b': 4}\n",
      "\u001b[0m\u001b[1;3;34mObservation: Error: No such tool named `tool`.\n",
      "\u001b[0m\u001b[1;3;38;5;200mThought: It seems that I need to use multiple tools to answer this question. I'll first use the `multiply` tool.\n",
      "Action: multiply\n",
      "Action Input: {'a': 3, 'b': 4}\n",
      "\u001b[0m\u001b[1;3;34mObservation: 15.0\n",
      "\u001b[0m\u001b[1;3;38;5;200mThought: The result of the multiplication is 15. Now, I'll use the `add` tool to add 5 to this result.\n",
      "Action: add\n",
      "Action Input: {'a': 15, 'b': 5}\n",
      "\u001b[0m\u001b[1;3;34mObservation: 19.58\n",
      "\u001b[0m\u001b[1;3;38;5;200mThought: The final result after addition is 19.58. I can now answer the question without using any more tools.\n",
      "Answer: The answer is 19.58.\n",
      "\u001b[0m"
     ]
    }
   ],
   "source": [
    "response = agent.chat(\"\"\"You live in an alternate universe. Math works according to the tools provided. Use the provided tools to multiply 3 by 4 and add 5 to the result\"\"\")"
   ]
  },
  {
   "cell_type": "code",
   "execution_count": null,
   "metadata": {},
   "outputs": [],
   "source": []
  }
 ],
 "metadata": {
  "kernelspec": {
   "display_name": "py311",
   "language": "python",
   "name": "python3"
  },
  "language_info": {
   "codemirror_mode": {
    "name": "ipython",
    "version": 3
   },
   "file_extension": ".py",
   "mimetype": "text/x-python",
   "name": "python",
   "nbconvert_exporter": "python",
   "pygments_lexer": "ipython3",
   "version": "3.10.0"
  }
 },
 "nbformat": 4,
 "nbformat_minor": 2
}
