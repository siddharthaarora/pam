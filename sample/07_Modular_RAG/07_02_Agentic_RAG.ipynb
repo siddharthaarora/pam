{
 "cells": [
  {
   "cell_type": "markdown",
   "metadata": {},
   "source": [
    "# 🕵️ Agentic RAG using Data Agents\n",
    "\n",
    "## 🧠 Concept\n",
    "\n",
    "Data Agents are LLM-powered knowledge workers in LlamaIndex that can intelligently perform various tasks over your data, in both a \"read\" and \"write\" function. \n",
    "\n",
    "They are capable of:\n",
    "\n",
    "- 🔍 Performing automated search and retrieval over different types of data - unstructured, semi-structured, and structured.\n",
    "\n",
    "- 📞 Calling any external service API in a structured fashion, and processing the response + storing it for later.\n",
    "\n",
    "In that sense, agents are a step beyond our query engines in that they can not only \"read\" from a static source of data, but can dynamically ingest and modify data from a variety of different tools.\n",
    "\n",
    "## 🛠️ Building a Data Agent\n",
    "\n",
    "Building a data agent requires the following core components:\n",
    "\n",
    "1. 🌀 A reasoning loop\n",
    "2. 🧰 Tool abstractions\n",
    "\n",
    "A data agent is initialized with set of APIs, or Tools, to interact with; these APIs can be called by the agent to return information or modify state. Given an input task, the data agent uses a reasoning loop to decide which tools to use, in which sequence, and the parameters to call each tool.\n",
    "\n",
    "\n"
   ]
  },
  {
   "cell_type": "code",
   "execution_count": null,
   "metadata": {},
   "outputs": [],
   "source": [
    "%%capture\n",
    "!pip install llama-index==0.10.37 llama-index-embeddings-openai==0.1.9 qdrant-client==1.9.1 llama-index-vector-stores-qdrant==0.2.8 llama-index-llms-openai==0.1.19"
   ]
  },
  {
   "cell_type": "code",
   "execution_count": 1,
   "metadata": {},
   "outputs": [],
   "source": [
    "import os\n",
    "import sys\n",
    "from getpass import getpass\n",
    "import nest_asyncio\n",
    "\n",
    "from IPython.display import Markdown, display\n",
    "\n",
    "from dotenv import load_dotenv\n",
    "\n",
    "nest_asyncio.apply()\n",
    "\n",
    "load_dotenv(\"\")\n",
    "\n",
    "sys.path.append('../helpers')\n",
    "\n",
    "from utils import setup_llm, setup_embed_model, setup_vector_store"
   ]
  },
  {
   "cell_type": "code",
   "execution_count": 2,
   "metadata": {},
   "outputs": [],
   "source": [
    "OPENAI_API_KEY = os.environ['OPENAI_API_KEY'] or getpass(\"Enter your OpenAI API key: \")"
   ]
  },
  {
   "cell_type": "code",
   "execution_count": 3,
   "metadata": {},
   "outputs": [],
   "source": [
    "# QDRANT_URL = os.environ['QDRANT_URL'] or getpass(\"Enter your Qdrant URL:\")\n",
    "\n",
    "QDRANT_URL=\":memory:\""
   ]
  },
  {
   "cell_type": "code",
   "execution_count": 4,
   "metadata": {},
   "outputs": [],
   "source": [
    "QDRANT_API_KEY = os.environ['QDRANT_API_KEY'] or  getpass(\"Enter your Qdrant API Key:\")"
   ]
  },
  {
   "cell_type": "code",
   "execution_count": 5,
   "metadata": {},
   "outputs": [],
   "source": [
    "from llama_index.core.settings import Settings\n",
    "from utils import setup_llm, setup_embed_model\n",
    "\n",
    "setup_llm(\n",
    "    provider=\"openai\",\n",
    "    api_key=OPENAI_API_KEY, \n",
    "    model=\"gpt-4o\", \n",
    "    temperature=0.75, \n",
    "    system_prompt=\"\"\"Use ONLY the provided context and generate a complete, coherent answer to the user's query. \n",
    "    Your response must be grounded in the provided context and relevant to the essence of the user's query.\n",
    "    \"\"\"\n",
    "    )\n",
    "\n",
    "setup_embed_model(\n",
    "    provider=\"openai\", \n",
    "    model=\"text-embedding-3-small\",\n",
    "    api_key=OPENAI_API_KEY\n",
    "    )"
   ]
  },
  {
   "cell_type": "code",
   "execution_count": 6,
   "metadata": {},
   "outputs": [],
   "source": [
    "import random\n",
    "from llama_index.core.storage.docstore import SimpleDocumentStore\n",
    "from utils import get_documents_from_docstore, group_documents_by_author, sample_documents\n",
    "\n",
    "documents = get_documents_from_docstore(\"../data/words-of-the-senpais\")\n",
    "\n",
    "random.seed(42)\n",
    "\n",
    "documents_by_author = group_documents_by_author(documents)\n",
    "\n",
    "senpai_documents = sample_documents(documents_by_author, num_samples=10)"
   ]
  },
  {
   "cell_type": "markdown",
   "metadata": {},
   "source": [
    "# Manually add some metadata to the nodes"
   ]
  },
  {
   "cell_type": "code",
   "execution_count": 7,
   "metadata": {},
   "outputs": [],
   "source": [
    "known_for = {\n",
    "    \"Naval Ravikant\": \"Known for his insights on how to build wealth and achieve happiness through developing specific knowledge, embracing accountability, playing long-term games, and understanding the power of compound interest in all areas of life.\",\n",
    "    \"Balaji Srinivasan\": \"Has insights on how to think independently, identify opportunities, and build a better future through the strategic application of technology and clear reasoning.\",\n",
    "    \"Paul Graham\": \"Provides advice on the hacker mindset, arguing that hackers are really makers and creators - akin to painters - who can leverage their unique way of thinking to push boundaries, challenge the status quo, and shape the future through technology and entrepreneurship.\",\n",
    "    \"Nassim Nicholas Taleb\": \"Argues for 'Skin in the Game', that is having a personal stake in the outcome is necessary for fairness as it aligns incentives and exposes individuals to both the potential rewards and risks of their decisions.\",\n",
    "    \"Seneca\": \"Offers timeless advice on how to cultivate wisdom, build mental resilience, and live a life of purpose and contentment by focusing on what is essential, mastering one's emotions, and aligning oneself with nature.\",\n",
    "    \"Bruce Lee\": \"Offers profound wisdom on self-improvement, personal growth, and martial arts philosophy, emphasizing the importance of adaptability, self-expression, and embracing one's own unique path in life, \"\n",
    "}\n",
    "\n",
    "for document in senpai_documents:\n",
    "    document.metadata['known_for'] = known_for.get(document.metadata['author']) "
   ]
  },
  {
   "cell_type": "code",
   "execution_count": 8,
   "metadata": {},
   "outputs": [],
   "source": [
    "smol_senpai_docstore = SimpleDocumentStore()\n",
    "smol_senpai_docstore.add_documents(senpai_documents)"
   ]
  },
  {
   "cell_type": "code",
   "execution_count": 9,
   "metadata": {},
   "outputs": [
    {
     "data": {
      "application/vnd.jupyter.widget-view+json": {
       "model_id": "8c1c254e465f4a62973197ed982d22ac",
       "version_major": 2,
       "version_minor": 0
      },
      "text/plain": [
       "Fetching 9 files:   0%|          | 0/9 [00:00<?, ?it/s]"
      ]
     },
     "metadata": {},
     "output_type": "display_data"
    },
    {
     "data": {
      "application/vnd.jupyter.widget-view+json": {
       "model_id": "aa853e9ab04d43f0a481629344e9e823",
       "version_major": 2,
       "version_minor": 0
      },
      "text/plain": [
       "Fetching 9 files:   0%|          | 0/9 [00:00<?, ?it/s]"
      ]
     },
     "metadata": {},
     "output_type": "display_data"
    }
   ],
   "source": [
    "from utils import setup_vector_store\n",
    "\n",
    "from llama_index.core import StorageContext\n",
    "from llama_index.core.settings import Settings\n",
    "from llama_index.core.storage.docstore import SimpleDocumentStore\n",
    "from llama_index.core.storage.index_store.simple_index_store import SimpleIndexStore\n",
    "\n",
    "COLLECTION_NAME = \"agentic-rag\"\n",
    "\n",
    "vector_store = setup_vector_store(\n",
    "    QDRANT_URL, \n",
    "    QDRANT_API_KEY, \n",
    "    COLLECTION_NAME, \n",
    "    enable_hybrid=True\n",
    "    )\n",
    "\n",
    "storage_context = StorageContext.from_defaults(\n",
    "    docstore = smol_senpai_docstore,\n",
    "    index_store=SimpleIndexStore(),\n",
    "    vector_store = vector_store\n",
    "    )"
   ]
  },
  {
   "cell_type": "markdown",
   "metadata": {},
   "source": [
    "# Automatically add more metadata"
   ]
  },
  {
   "cell_type": "code",
   "execution_count": 10,
   "metadata": {},
   "outputs": [],
   "source": [
    "from llama_index.core import PromptTemplate, VectorStoreIndex\n",
    "from llama_index.core.schema import MetadataMode\n",
    "from llama_index.core.node_parser import SentenceSplitter\n",
    "from llama_index.core.storage.docstore import SimpleDocumentStore\n",
    "\n",
    "from llama_index.core.extractors import KeywordExtractor, QuestionsAnsweredExtractor\n",
    "\n",
    "from utils import create_index, create_query_engine, ingest\n",
    "\n",
    "from prompts import QUESTION_GEN_PROMPT\n",
    "\n",
    "sentence_splitter = SentenceSplitter(chunk_size=256, chunk_overlap=16)\n",
    "\n",
    "qa_extractor = QuestionsAnsweredExtractor(\n",
    "    questions=2, \n",
    "    llm=Settings.llm, \n",
    "    metadata_mode=MetadataMode.EMBED,\n",
    "    embed_model=Settings.embed_model,\n",
    "    prompt_template=QUESTION_GEN_PROMPT\n",
    "    )\n",
    "\n",
    "keyword_extractor = KeywordExtractor(keywords=5, llm=Settings.llm)"
   ]
  },
  {
   "cell_type": "code",
   "execution_count": 11,
   "metadata": {},
   "outputs": [
    {
     "name": "stderr",
     "output_type": "stream",
     "text": [
      "100%|██████████| 139/139 [00:18<00:00,  7.71it/s]\n",
      "100%|██████████| 139/139 [00:19<00:00,  7.17it/s]\n"
     ]
    }
   ],
   "source": [
    "transformations = [sentence_splitter, qa_extractor, keyword_extractor, Settings.embed_model]\n",
    "\n",
    "nodes = ingest(\n",
    "    documents=senpai_documents,\n",
    "    transformations=transformations,\n",
    "    vector_store=vector_store,   \n",
    ")\n",
    "\n",
    "index = create_index(\n",
    "    from_where=\"vector_store\",\n",
    "    vector_store=vector_store,\n",
    "    storage_context=storage_context,\n",
    "    embed_model=Settings.embed_model,\n",
    "    )"
   ]
  },
  {
   "cell_type": "code",
   "execution_count": 12,
   "metadata": {},
   "outputs": [
    {
     "name": "stdout",
     "output_type": "stream",
     "text": [
      "[Excerpt from document]\n",
      "page_number: 76\n",
      "file_name: ../data/taoofseneca_vol2.pdf\n",
      "title: Letters From a Stoic Volume 2\n",
      "author: Seneca\n",
      "known_for: Offers timeless advice on how to cultivate wisdom, build mental resilience, and live a life of purpose and contentment by focusing on what is essential, mastering one's emotions, and aligning oneself with nature.\n",
      "questions_this_excerpt_can_answer: How can I achieve a state of happiness that is noble, steadfast, and calm?\n",
      "excerpt_keywords: happiness, wisdom, resilience, emotions, nature\n",
      "Excerpt:\n",
      "-----\n",
      "For its spirit is no less great and upright, its sagacity no less complete, its justice no less inflexible. It is, therefore, equally happy. For happiness has its abode in one place only, namely, in the mind itself, and is noble, steadfast, and calm; and this state cannot be attained without a knowledge of things divine and human. The other answer, which I promised to make to your objection, follows from this reasoning. The wise man is not distressed by the loss of children or of friends. For he endures their death in the same spirit in which he awaits his own. And he fears the one\n",
      "-----\n"
     ]
    }
   ],
   "source": [
    "print(nodes[100].get_content(metadata_mode=\"all\"))"
   ]
  },
  {
   "cell_type": "markdown",
   "metadata": {},
   "source": [
    "To begin, we need to create a `VectorStoreInfo` object, which will contain all the relevant metadata for each component (in this case, title metadata). \n",
    "\n",
    "`VectorStoreInfo` is a component used in configuring vector stores within the LlamaIndex framework. It provides metadata about the content and structure of the data stored in the vector store. This metadata is helps indexing and querying processes, ensuring that the vector store is optimized for specific types of queries and data categories.\n",
    "\n",
    "To use `VectorStoreInfo`, you need to define it with relevant metadata about your data. \n",
    "\n",
    "Here’s a step-by-step guide on how to configure and use `VectorStoreInfo`:\n",
    "\n",
    "1. **Define Metadata Information**: Specify details about data categories and other relevant attributes."
   ]
  },
  {
   "cell_type": "code",
   "execution_count": 13,
   "metadata": {},
   "outputs": [],
   "source": [
    "from llama_index.core.vector_stores.types import VectorStoreInfo, MetadataInfo\n",
    "\n",
    "vector_store_info = VectorStoreInfo(\n",
    "    content_info=\"The thoughts and writings of philosophers, thinkers, and mentors who have shaped the world with their wisdom and insights.\",\n",
    "    metadata_info=[\n",
    "        MetadataInfo(\n",
    "            name=\"known_for\",\n",
    "            type=\"str\",\n",
    "            description=\"Useful for finding the right thinker's words to answer a question.\"\n",
    "        ),\n",
    "        MetadataInfo(\n",
    "            name=\"questions_this_excerpt_can_answer\",\n",
    "            type=\"str\",\n",
    "            description=\"Use this when the user asks a question.\"\n",
    "        ),\n",
    "        MetadataInfo(\n",
    "            name=\"excerpt_keywords\",\n",
    "            type=\"str\",\n",
    "            description=\"Use this when the user submits keywords.\",\n",
    "        ),\n",
    "        MetadataInfo(\n",
    "            name=\"author\",\n",
    "            type=\"str\",\n",
    "            description=(\"The name of the thinker who wrote the text. Useful when no text match is found, you can use internal knowledge to answer.\" )\n",
    "            )\n",
    "    ],\n",
    ")"
   ]
  },
  {
   "cell_type": "markdown",
   "metadata": {},
   "source": [
    "### Integration with Vector Index AutoRetriever\n",
    "\n",
    "Next, we'll create our base Pydantic object to ensure compatibility with our \n",
    "application layer. This object verifies that the response from the OpenAI endpoint conforms to the specified schema.\n",
    "\n",
    "After defining the `VectorStoreInfo`, you can use it to configure a `VectorIndexAutoRetriever`. This retriever automatically adjusts query settings based on the provided metadata."
   ]
  },
  {
   "cell_type": "code",
   "execution_count": 14,
   "metadata": {},
   "outputs": [],
   "source": [
    "from typing import List, Tuple, Any\n",
    "from pydantic import BaseModel, Field\n",
    "\n",
    "class AutoRetrieveModel(BaseModel):\n",
    "    query: str = Field(..., description=\"A question the user wants to advice about\")\n",
    "    filter_key_list: List[str] = Field(\n",
    "        ..., description=\"List of metadata filter field names\"\n",
    "    )\n",
    "    filter_value_list: List[str] = Field(\n",
    "        ...,\n",
    "        description=(\n",
    "            \"List of metadata filter field values (corresponding to names specified in filter_key_list)\"\n",
    "        )\n",
    "    )\n"
   ]
  },
  {
   "cell_type": "markdown",
   "metadata": {},
   "source": [
    "## Auto Retriever Functional Tool\n",
    "\n",
    "This tool will leverage OpenAI's functional endpoint to select the correct metadata filter and query the filtered index - only looking at nodes with the desired metadata.\n"
   ]
  },
  {
   "cell_type": "code",
   "execution_count": 51,
   "metadata": {},
   "outputs": [],
   "source": [
    "from llama_index.core.query_engine import RetrieverQueryEngine\n",
    "from llama_index.core.retrievers import VectorIndexRetriever\n",
    "from llama_index.core.vector_stores.types import MetadataFilter, FilterOperator, MetadataFilters\n",
    "\n",
    "top_k = 3\n",
    "\n",
    "def auto_retrieve_fn(\n",
    "    query: str, filter_key_list: List[str], filter_value_list: List[str]):\n",
    "    \"\"\"Auto retrieval function.\n",
    "\n",
    "    Performs auto-retrieval from a vector database, and then applies a set of filters.\n",
    "\n",
    "    \"\"\"\n",
    "    query = query or \"Query\"\n",
    "\n",
    "    contains_filters = [\n",
    "        MetadataFilter(key=k, value=v, operator=FilterOperator.CONTAINS)\n",
    "        for k, v in zip(filter_key_list, filter_value_list)\n",
    "        ]\n",
    "\n",
    "    retriever = VectorIndexRetriever(\n",
    "        index, \n",
    "        vector_store_query_mode=\"hybrid\",\n",
    "        alpha=0.65,\n",
    "        filters=MetadataFilters(filters=contains_filters),\n",
    "        top_k=top_k\n",
    "        )\n",
    "\n",
    "    query_engine = RetrieverQueryEngine.from_args(\n",
    "        retriever,\n",
    "        response_mode=\"compact\",\n",
    "        verbose=True\n",
    "        )\n",
    "\n",
    "    response = query_engine.query(query)\n",
    "    return str(response)"
   ]
  },
  {
   "cell_type": "code",
   "execution_count": 52,
   "metadata": {},
   "outputs": [],
   "source": [
    "from llama_index.core.tools import FunctionTool\n",
    "\n",
    "description = f\"\"\"\\\n",
    "Use this tool to answer the usery query by retrieving relevant information from the vector database.\n",
    "The vector database schema is given below, which you should use to find the right information to answer the user's query.:\n",
    "{vector_store_info.json()}\n",
    "\"\"\"\n",
    "\n",
    "auto_retrieve_tool = FunctionTool.from_defaults(\n",
    "    fn=auto_retrieve_fn,\n",
    "    name=\"words-of-senpai-info\",\n",
    "    description=description,\n",
    "    fn_schema=AutoRetrieveModel\n",
    ")"
   ]
  },
  {
   "cell_type": "code",
   "execution_count": 53,
   "metadata": {},
   "outputs": [],
   "source": [
    "from llama_index.agent.openai import OpenAIAgent\n",
    "\n",
    "agent = OpenAIAgent.from_tools(\n",
    "    tools=[auto_retrieve_tool],\n",
    "    verbose=True,\n",
    ")"
   ]
  },
  {
   "cell_type": "markdown",
   "metadata": {},
   "source": [
    "## How does the agent work?\n",
    "\n",
    "A user's query is processed through a query engine, transformed, and then filtered and retrieved from a vector database to provide a relevant response.\n",
    "\n",
    "A simplified diagram: \n",
    "\n",
    "<img src=\"https://i.imgur.com/AICDPav.png\" width=\"50%\">\n",
    "\n",
    "[Source: AI Makerspace](https://www.youtube.com/watch?v=wYZJq8CNmTw&t=3s)\n",
    "\n",
    "1. **User Query**:\n",
    "   - A user inputs a query.\n",
    "\n",
    "2. **Query Engine**:\n",
    "   - The query is first sent to the `QueryEngineRetriever` application, which is part of the Query Engine system.\n",
    "   - The `QueryEngineRetriever` then interacts with the `VectorStoreData` application to process the query further.\n",
    "\n",
    "3. **OpenAI API**:\n",
    "   - The `VectorStoreData` communicates with two models from the OpenAI API:\n",
    "     - **Language Model**: Understands and generate coherent responses based on the query.\n",
    "     - **Embedding Model**: Converts the query and data into vector representations for easier processing and retrieval.\n",
    "\n",
    "4. **Vector Store**:\n",
    "   - The processed information is sent to a `Vector Database` within the Vector Store system.\n",
    "   - The `Vector Database` stores the vectorized data and can filter it based on metadata through the `Metadata Filter` application.\n",
    "   - This filtering process results in a `Filtered List of Nodes`, which represents the most relevant pieces of information related to the query.\n",
    "\n",
    "5. **Result Compilation**:\n",
    "   - The filtered information is sent back to the `VectorStoreData` application, which compiles the final response.\n",
    "   - This compiled response is then sent back to the `QueryEngineRetriever` application.\n",
    "\n",
    "6. **Response Display**:\n",
    "   - Finally, the processed and relevant information is displayed to the user as the plot synopsis in the top right box.\n",
    "\n"
   ]
  },
  {
   "cell_type": "code",
   "execution_count": 54,
   "metadata": {},
   "outputs": [
    {
     "name": "stdout",
     "output_type": "stream",
     "text": [
      "Added user message to memory: Building wealth and achieving happiness through developing specific knowledge, embracing accountability, playing long-term games, and understanding the power of compound interest in all areas of life.\n",
      "=== Calling Function ===\n",
      "Calling function: words-of-senpai-info with args: {\"query\": \"Building wealth through developing specific knowledge\", \"filter_key_list\": [\"questions_this_excerpt_can_answer\"], \"filter_value_list\": [\"How can I build wealth?\"]}\n",
      "Got output: To build wealth through developing specific knowledge, focus on acquiring skills that are unique and in demand but not easily teachable or replaceable. This specific knowledge often involves understanding complex systems, mastering advanced technologies, or developing niche expertise. As you gain this knowledge, combine it with increasing levels of leverage and accountability. Leverage can come from using tools such as software and capital, which allow you to amplify your efforts and achieve greater outcomes. Over time, by continuously applying this specific knowledge and leveraging it effectively, you can benefit from the compounding effects, ultimately leading to significant wealth creation.\n",
      "========================\n",
      "\n",
      "=== Calling Function ===\n",
      "Calling function: words-of-senpai-info with args: {\"query\": \"Achieving happiness through embracing accountability\", \"filter_key_list\": [\"questions_this_excerpt_can_answer\"], \"filter_value_list\": [\"How can I achieve happiness?\"]}\n",
      "Got output: Achieving happiness through embracing accountability involves taking personal responsibility for your actions and their outcomes. By developing specific knowledge and leveraging your unique skill set, you can create a fulfilling and successful life. Accountability ensures that you are committed to long-term growth and improvement, which in turn leads to greater happiness and satisfaction. It's about consistently putting in the effort, enjoying the process, and not being deterred by setbacks or the opinions of others.\n",
      "========================\n",
      "\n",
      "=== Calling Function ===\n",
      "Calling function: words-of-senpai-info with args: {\"query\": \"Playing long-term games to build wealth\", \"filter_key_list\": [\"questions_this_excerpt_can_answer\"], \"filter_value_list\": [\"How can I build wealth?\"]}\n",
      "Got output: Playing long-term games to build wealth involves several key principles. First, it's essential to develop specific knowledge and leverage that knowledge in ways that align with your authentic skills and interests. This means honing expertise in areas you are passionate about and can excel in uniquely. \n",
      "\n",
      "Additionally, embracing accountability is crucial. This involves taking responsibility for your actions and outcomes, which builds trust and allows you to leverage opportunities effectively.\n",
      "\n",
      "Patience is another vital component. Success often requires a significant investment of time and effort, and it never happens as quickly as one might hope. It's important not to focus on the immediate results but rather to keep putting in the time and effort consistently without counting the days. \n",
      "\n",
      "Finally, understanding the power of compound interest and the cumulative effect of continuous effort over time is critical. By playing the long-term game, you position yourself to eventually achieve the success you deserve, even if it takes longer than anticipated.\n",
      "========================\n",
      "\n",
      "=== Calling Function ===\n",
      "Calling function: words-of-senpai-info with args: {\"query\": \"Understanding the power of compound interest\", \"filter_key_list\": [\"questions_this_excerpt_can_answer\"], \"filter_value_list\": [\"What is the power of compound interest?\"]}\n",
      "Got output: Understanding the power of compound interest involves recognizing how it can significantly enhance wealth building over time. By continually reinvesting earnings, you allow your investments to generate returns not only on the initial principal but also on the accumulated interest from prior periods. This process creates a snowball effect, where wealth grows at an accelerating rate. When combined with specific knowledge, leverage, and accountability, the cumulative effect of compound interest can lead to substantial financial gains, as it amplifies the benefits of these elements over a long period. Patience is essential, as the real power of compound interest manifests over extended timescales, rewarding those who consistently apply these principles without seeking immediate results.\n",
      "========================\n",
      "\n"
     ]
    },
    {
     "data": {
      "text/plain": [
       "AgentChatResponse(response=\"Here's a comprehensive approach to building wealth and achieving happiness through the principles of developing specific knowledge, embracing accountability, playing long-term games, and understanding the power of compound interest:\\n\\n### Building Wealth Through Developing Specific Knowledge\\nTo build wealth, focus on acquiring skills that are unique, in demand, and not easily replaceable. This specific knowledge often involves understanding complex systems, mastering advanced technologies, or developing niche expertise. Combine this knowledge with increasing levels of leverage and accountability. Leverage can come from tools like software and capital, which amplify your efforts and lead to greater outcomes. Over time, continuously applying this specific knowledge and leveraging it effectively benefits from the compounding effects, leading to significant wealth creation.\\n\\n### Achieving Happiness Through Embracing Accountability\\nHappiness is closely tied to taking personal responsibility for your actions and their outcomes. By developing specific knowledge and leveraging your unique skill set, you can create a fulfilling and successful life. Accountability ensures commitment to long-term growth and improvement, leading to greater happiness and satisfaction. It's about consistently putting in the effort, enjoying the process, and not being deterred by setbacks or external opinions.\\n\\n### Playing Long-Term Games to Build Wealth\\nPlaying long-term games involves several key principles:\\n1. **Develop Specific Knowledge**: Hone expertise in areas that align with your skills and interests.\\n2. **Embrace Accountability**: Take responsibility for your actions and outcomes, building trust and leveraging opportunities effectively.\\n3. **Patience**: Success requires significant time and effort. Focus on continuous effort rather than immediate results.\\n4. **Compound Interest**: Understand the cumulative effect of continuous effort over time. The power of compound interest amplifies your efforts, leading to substantial financial gains when applied consistently over extended timescales.\\n\\n### Understanding the Power of Compound Interest\\nCompound interest significantly enhances wealth building over time. By reinvesting earnings, your investments generate returns on both the initial principal and the accumulated interest, creating a snowball effect. This process amplifies wealth growth at an accelerating rate. When combined with specific knowledge, leverage, and accountability, compound interest leads to substantial financial gains, rewarding consistent application of these principles without seeking immediate results.\\n\\nBy integrating these principles, you can effectively build wealth and achieve lasting happiness through long-term commitment, continuous improvement, and leveraging the power of compound interest.\", sources=[ToolOutput(content='To build wealth through developing specific knowledge, focus on acquiring skills that are unique and in demand but not easily teachable or replaceable. This specific knowledge often involves understanding complex systems, mastering advanced technologies, or developing niche expertise. As you gain this knowledge, combine it with increasing levels of leverage and accountability. Leverage can come from using tools such as software and capital, which allow you to amplify your efforts and achieve greater outcomes. Over time, by continuously applying this specific knowledge and leveraging it effectively, you can benefit from the compounding effects, ultimately leading to significant wealth creation.', tool_name='words-of-senpai-info', raw_input={'args': (), 'kwargs': {'query': 'Building wealth through developing specific knowledge', 'filter_key_list': ['questions_this_excerpt_can_answer'], 'filter_value_list': ['How can I build wealth?']}}, raw_output='To build wealth through developing specific knowledge, focus on acquiring skills that are unique and in demand but not easily teachable or replaceable. This specific knowledge often involves understanding complex systems, mastering advanced technologies, or developing niche expertise. As you gain this knowledge, combine it with increasing levels of leverage and accountability. Leverage can come from using tools such as software and capital, which allow you to amplify your efforts and achieve greater outcomes. Over time, by continuously applying this specific knowledge and leveraging it effectively, you can benefit from the compounding effects, ultimately leading to significant wealth creation.', is_error=False), ToolOutput(content=\"Achieving happiness through embracing accountability involves taking personal responsibility for your actions and their outcomes. By developing specific knowledge and leveraging your unique skill set, you can create a fulfilling and successful life. Accountability ensures that you are committed to long-term growth and improvement, which in turn leads to greater happiness and satisfaction. It's about consistently putting in the effort, enjoying the process, and not being deterred by setbacks or the opinions of others.\", tool_name='words-of-senpai-info', raw_input={'args': (), 'kwargs': {'query': 'Achieving happiness through embracing accountability', 'filter_key_list': ['questions_this_excerpt_can_answer'], 'filter_value_list': ['How can I achieve happiness?']}}, raw_output=\"Achieving happiness through embracing accountability involves taking personal responsibility for your actions and their outcomes. By developing specific knowledge and leveraging your unique skill set, you can create a fulfilling and successful life. Accountability ensures that you are committed to long-term growth and improvement, which in turn leads to greater happiness and satisfaction. It's about consistently putting in the effort, enjoying the process, and not being deterred by setbacks or the opinions of others.\", is_error=False), ToolOutput(content=\"Playing long-term games to build wealth involves several key principles. First, it's essential to develop specific knowledge and leverage that knowledge in ways that align with your authentic skills and interests. This means honing expertise in areas you are passionate about and can excel in uniquely. \\n\\nAdditionally, embracing accountability is crucial. This involves taking responsibility for your actions and outcomes, which builds trust and allows you to leverage opportunities effectively.\\n\\nPatience is another vital component. Success often requires a significant investment of time and effort, and it never happens as quickly as one might hope. It's important not to focus on the immediate results but rather to keep putting in the time and effort consistently without counting the days. \\n\\nFinally, understanding the power of compound interest and the cumulative effect of continuous effort over time is critical. By playing the long-term game, you position yourself to eventually achieve the success you deserve, even if it takes longer than anticipated.\", tool_name='words-of-senpai-info', raw_input={'args': (), 'kwargs': {'query': 'Playing long-term games to build wealth', 'filter_key_list': ['questions_this_excerpt_can_answer'], 'filter_value_list': ['How can I build wealth?']}}, raw_output=\"Playing long-term games to build wealth involves several key principles. First, it's essential to develop specific knowledge and leverage that knowledge in ways that align with your authentic skills and interests. This means honing expertise in areas you are passionate about and can excel in uniquely. \\n\\nAdditionally, embracing accountability is crucial. This involves taking responsibility for your actions and outcomes, which builds trust and allows you to leverage opportunities effectively.\\n\\nPatience is another vital component. Success often requires a significant investment of time and effort, and it never happens as quickly as one might hope. It's important not to focus on the immediate results but rather to keep putting in the time and effort consistently without counting the days. \\n\\nFinally, understanding the power of compound interest and the cumulative effect of continuous effort over time is critical. By playing the long-term game, you position yourself to eventually achieve the success you deserve, even if it takes longer than anticipated.\", is_error=False), ToolOutput(content='Understanding the power of compound interest involves recognizing how it can significantly enhance wealth building over time. By continually reinvesting earnings, you allow your investments to generate returns not only on the initial principal but also on the accumulated interest from prior periods. This process creates a snowball effect, where wealth grows at an accelerating rate. When combined with specific knowledge, leverage, and accountability, the cumulative effect of compound interest can lead to substantial financial gains, as it amplifies the benefits of these elements over a long period. Patience is essential, as the real power of compound interest manifests over extended timescales, rewarding those who consistently apply these principles without seeking immediate results.', tool_name='words-of-senpai-info', raw_input={'args': (), 'kwargs': {'query': 'Understanding the power of compound interest', 'filter_key_list': ['questions_this_excerpt_can_answer'], 'filter_value_list': ['What is the power of compound interest?']}}, raw_output='Understanding the power of compound interest involves recognizing how it can significantly enhance wealth building over time. By continually reinvesting earnings, you allow your investments to generate returns not only on the initial principal but also on the accumulated interest from prior periods. This process creates a snowball effect, where wealth grows at an accelerating rate. When combined with specific knowledge, leverage, and accountability, the cumulative effect of compound interest can lead to substantial financial gains, as it amplifies the benefits of these elements over a long period. Patience is essential, as the real power of compound interest manifests over extended timescales, rewarding those who consistently apply these principles without seeking immediate results.', is_error=False)], source_nodes=[], is_dummy_stream=False)"
      ]
     },
     "execution_count": 54,
     "metadata": {},
     "output_type": "execute_result"
    }
   ],
   "source": [
    "agent.chat(\"Building wealth and achieving happiness through developing specific knowledge, embracing accountability, playing long-term games, and understanding the power of compound interest in all areas of life.\")"
   ]
  },
  {
   "cell_type": "code",
   "execution_count": 55,
   "metadata": {},
   "outputs": [
    {
     "name": "stdout",
     "output_type": "stream",
     "text": [
      "Added user message to memory: find text that mentions: specific knowledge, luck, success\n",
      "=== Calling Function ===\n",
      "Calling function: words-of-senpai-info with args: {\"query\":\"specific knowledge, luck, success\",\"filter_key_list\":[\"excerpt_keywords\"],\"filter_value_list\":[\"specific knowledge\",\"luck\",\"success\"]}\n",
      "Got output: Specific knowledge involves unique skills and abilities that are highly valuable and not easily replicable. When combined with leverage, such as technology or capital, and applied consistently over time, it increases the likelihood of achieving success. However, success also requires patience, as it often takes a long timescale to materialize. While luck can play a role, consistently applying specific knowledge with leverage increases your chances of success, even if it doesn't happen immediately.\n",
      "========================\n",
      "\n"
     ]
    },
    {
     "data": {
      "text/plain": [
       "AgentChatResponse(response='Here\\'s an insightful excerpt that mentions specific knowledge, luck, and success:\\n\\n\"Specific knowledge involves unique skills and abilities that are highly valuable and not easily replicable. When combined with leverage, such as technology or capital, and applied consistently over time, it increases the likelihood of achieving success. However, success also requires patience, as it often takes a long timescale to materialize. While luck can play a role, consistently applying specific knowledge with leverage increases your chances of success, even if it doesn\\'t happen immediately.\"\\n\\nThis emphasizes the importance of developing unique skills, leveraging resources, and being patient to achieve long-term success, while acknowledging that luck can also influence outcomes.', sources=[ToolOutput(content=\"Specific knowledge involves unique skills and abilities that are highly valuable and not easily replicable. When combined with leverage, such as technology or capital, and applied consistently over time, it increases the likelihood of achieving success. However, success also requires patience, as it often takes a long timescale to materialize. While luck can play a role, consistently applying specific knowledge with leverage increases your chances of success, even if it doesn't happen immediately.\", tool_name='words-of-senpai-info', raw_input={'args': (), 'kwargs': {'query': 'specific knowledge, luck, success', 'filter_key_list': ['excerpt_keywords'], 'filter_value_list': ['specific knowledge', 'luck', 'success']}}, raw_output=\"Specific knowledge involves unique skills and abilities that are highly valuable and not easily replicable. When combined with leverage, such as technology or capital, and applied consistently over time, it increases the likelihood of achieving success. However, success also requires patience, as it often takes a long timescale to materialize. While luck can play a role, consistently applying specific knowledge with leverage increases your chances of success, even if it doesn't happen immediately.\", is_error=False)], source_nodes=[], is_dummy_stream=False)"
      ]
     },
     "execution_count": 55,
     "metadata": {},
     "output_type": "execute_result"
    }
   ],
   "source": [
    "agent.chat(\"find text that mentions: specific knowledge, luck, success\")"
   ]
  },
  {
   "cell_type": "code",
   "execution_count": 56,
   "metadata": {},
   "outputs": [
    {
     "name": "stdout",
     "output_type": "stream",
     "text": [
      "Added user message to memory: What would nassim taleb say about accountability and risk\n",
      "=== Calling Function ===\n",
      "Calling function: words-of-senpai-info with args: {\"query\":\"accountability and risk\",\"filter_key_list\":[\"author\"],\"filter_value_list\":[\"Nassim Taleb\"]}\n",
      "Got output: Accountability and risk are deeply intertwined concepts, especially when considering starting a company. Embracing accountability means being willing to take on the responsibility for the outcomes of your actions and decisions. It involves understanding that while there is inherent risk in starting a business—such as the time and capital you invest—modern society often mitigates the downside risk. For instance, even in the worst-case scenario of personal bankruptcy, the system can provide a fresh start. Furthermore, environments like Silicon Valley are generally forgiving of honest failures, provided you demonstrate high integrity and effort. This perspective encourages individuals to take on more accountability, as the fear of failure is often less daunting than perceived.\n",
      "========================\n",
      "\n"
     ]
    },
    {
     "data": {
      "text/plain": [
       "AgentChatResponse(response='Nassim Taleb\\'s perspective on accountability and risk highlights their deep interconnection, especially in contexts like starting a company. Here’s a key takeaway:\\n\\n\"Embracing accountability means being willing to take on the responsibility for the outcomes of your actions and decisions. It involves understanding that while there is inherent risk in starting a business—such as the time and capital you invest—modern society often mitigates the downside risk. For instance, even in the worst-case scenario of personal bankruptcy, the system can provide a fresh start. Furthermore, environments like Silicon Valley are generally forgiving of honest failures, provided you demonstrate high integrity and effort. This perspective encourages individuals to take on more accountability, as the fear of failure is often less daunting than perceived.\"\\n\\nTaleb’s view emphasizes that taking risks is an integral part of being accountable, but societal safety nets and the culture of innovation can reduce the fear associated with these risks, thereby fostering a willingness to take on greater responsibility.', sources=[ToolOutput(content='Accountability and risk are deeply intertwined concepts, especially when considering starting a company. Embracing accountability means being willing to take on the responsibility for the outcomes of your actions and decisions. It involves understanding that while there is inherent risk in starting a business—such as the time and capital you invest—modern society often mitigates the downside risk. For instance, even in the worst-case scenario of personal bankruptcy, the system can provide a fresh start. Furthermore, environments like Silicon Valley are generally forgiving of honest failures, provided you demonstrate high integrity and effort. This perspective encourages individuals to take on more accountability, as the fear of failure is often less daunting than perceived.', tool_name='words-of-senpai-info', raw_input={'args': (), 'kwargs': {'query': 'accountability and risk', 'filter_key_list': ['author'], 'filter_value_list': ['Nassim Taleb']}}, raw_output='Accountability and risk are deeply intertwined concepts, especially when considering starting a company. Embracing accountability means being willing to take on the responsibility for the outcomes of your actions and decisions. It involves understanding that while there is inherent risk in starting a business—such as the time and capital you invest—modern society often mitigates the downside risk. For instance, even in the worst-case scenario of personal bankruptcy, the system can provide a fresh start. Furthermore, environments like Silicon Valley are generally forgiving of honest failures, provided you demonstrate high integrity and effort. This perspective encourages individuals to take on more accountability, as the fear of failure is often less daunting than perceived.', is_error=False)], source_nodes=[], is_dummy_stream=False)"
      ]
     },
     "execution_count": 56,
     "metadata": {},
     "output_type": "execute_result"
    }
   ],
   "source": [
    "agent.chat(\"What would nassim taleb say about accountability and risk\")"
   ]
  },
  {
   "cell_type": "code",
   "execution_count": 57,
   "metadata": {},
   "outputs": [
    {
     "name": "stdout",
     "output_type": "stream",
     "text": [
      "Added user message to memory: What would Bruce Lee say about adaptability and self-expression\n",
      "=== Calling Function ===\n",
      "Calling function: words-of-senpai-info with args: {\"query\":\"adaptability and self-expression\",\"filter_key_list\":[\"author\"],\"filter_value_list\":[\"Bruce Lee\"]}\n",
      "Got output: Adaptability and self-expression are essential components of personal growth and fulfillment. Adaptability allows you to remain flexible and responsive to changing circumstances, enabling a more fluid and effective approach to life's challenges. Self-expression, on the other hand, involves being true to your own thoughts, feelings, and identity, which fosters authenticity and creativity. Together, they help you navigate life's complexities while staying true to your unique path, ensuring a balanced and holistic approach to personal development.\n",
      "========================\n",
      "\n"
     ]
    },
    {
     "data": {
      "text/plain": [
       "AgentChatResponse(response='Bruce Lee emphasized the importance of adaptability and self-expression as key elements of personal growth and fulfillment. Here’s a synthesis of his teachings on these topics:\\n\\n\"Adaptability allows you to remain flexible and responsive to changing circumstances, enabling a more fluid and effective approach to life\\'s challenges. Self-expression, on the other hand, involves being true to your own thoughts, feelings, and identity, which fosters authenticity and creativity. Together, they help you navigate life\\'s complexities while staying true to your unique path, ensuring a balanced and holistic approach to personal development.\"\\n\\nIn essence, Bruce Lee believed that being adaptable and expressing your true self are crucial for navigating life\\'s uncertainties and achieving personal fulfillment.', sources=[ToolOutput(content=\"Adaptability and self-expression are essential components of personal growth and fulfillment. Adaptability allows you to remain flexible and responsive to changing circumstances, enabling a more fluid and effective approach to life's challenges. Self-expression, on the other hand, involves being true to your own thoughts, feelings, and identity, which fosters authenticity and creativity. Together, they help you navigate life's complexities while staying true to your unique path, ensuring a balanced and holistic approach to personal development.\", tool_name='words-of-senpai-info', raw_input={'args': (), 'kwargs': {'query': 'adaptability and self-expression', 'filter_key_list': ['author'], 'filter_value_list': ['Bruce Lee']}}, raw_output=\"Adaptability and self-expression are essential components of personal growth and fulfillment. Adaptability allows you to remain flexible and responsive to changing circumstances, enabling a more fluid and effective approach to life's challenges. Self-expression, on the other hand, involves being true to your own thoughts, feelings, and identity, which fosters authenticity and creativity. Together, they help you navigate life's complexities while staying true to your unique path, ensuring a balanced and holistic approach to personal development.\", is_error=False)], source_nodes=[], is_dummy_stream=False)"
      ]
     },
     "execution_count": 57,
     "metadata": {},
     "output_type": "execute_result"
    }
   ],
   "source": [
    "agent.chat(\"What would Bruce Lee say about adaptability and self-expression\")"
   ]
  },
  {
   "cell_type": "code",
   "execution_count": 58,
   "metadata": {},
   "outputs": [
    {
     "name": "stdout",
     "output_type": "stream",
     "text": [
      "Added user message to memory: What kind of questions should I ask Balaji Srinivasan and Naval Ravikant?\n",
      "=== Calling Function ===\n",
      "Calling function: words-of-senpai-info with args: {\"query\": \"What kind of questions should I ask Balaji Srinivasan?\", \"filter_key_list\": [\"author\"], \"filter_value_list\": [\"Balaji Srinivasan\"]}\n",
      "Got output: When engaging with Balaji Srinivasan, consider asking questions that delve into his areas of expertise, such as:\n",
      "\n",
      "1. What strategic considerations should be made when evaluating emerging technology platforms like cryptocurrency and augmented reality (AR) glasses?\n",
      "2. How can one effectively identify and leverage new opportunities in the tech industry?\n",
      "3. What are the key factors to think about when assessing the potential of a new platform to solve significant pain points for users?\n",
      "4. How do political dynamics influence the perception and acceptance of truth in society?\n",
      "5. What strategies can individuals use to navigate political landscapes while maintaining integrity and independence in their thinking?\n",
      "\n",
      "These questions align with his insights on thinking independently, identifying opportunities, and understanding the interplay between technology, politics, and societal truths.\n",
      "========================\n",
      "\n",
      "=== Calling Function ===\n",
      "Calling function: words-of-senpai-info with args: {\"query\": \"What kind of questions should I ask Naval Ravikant?\", \"filter_key_list\": [\"author\"], \"filter_value_list\": [\"Naval Ravikant\"]}\n",
      "Got output: You should ask Naval Ravikant questions that delve into how to build wealth and achieve happiness. Specifically, questions about developing specific knowledge, embracing accountability, and understanding the power of compound interest in life would be valuable. Additionally, inquiring about the subjects he recommends studying, such as microeconomics, game theory, psychology, persuasion, productivity, and how to set up effective personal systems for success, would also be insightful. For example, you could ask:\n",
      "\n",
      "1. How can I develop specific knowledge that will help me build wealth and achieve happiness?\n",
      "2. What are the key principles of embracing accountability in personal and professional life?\n",
      "3. Can you explain the role of compound interest in achieving long-term success?\n",
      "4. What subjects should I focus on studying to improve my chances of building wealth and finding happiness?\n",
      "5. How do you recommend setting an aspirational personal hourly rate and managing tasks accordingly?\n",
      "6. What is the importance of focusing on who you work with and what you work on, rather than just how hard you work?\n",
      "========================\n",
      "\n"
     ]
    },
    {
     "data": {
      "text/plain": [
       "AgentChatResponse(response='### Questions for Balaji Srinivasan\\n\\n1. **Emerging Technologies**: What strategic considerations should be made when evaluating emerging technology platforms like cryptocurrency and augmented reality (AR) glasses?\\n2. **Identifying Opportunities**: How can one effectively identify and leverage new opportunities in the tech industry?\\n3. **Assessing Potential**: What are the key factors to think about when assessing the potential of a new platform to solve significant pain points for users?\\n4. **Political Dynamics**: How do political dynamics influence the perception and acceptance of truth in society?\\n5. **Navigating Political Landscapes**: What strategies can individuals use to navigate political landscapes while maintaining integrity and independence in their thinking?\\n\\n### Questions for Naval Ravikant\\n\\n1. **Developing Specific Knowledge**: How can I develop specific knowledge that will help me build wealth and achieve happiness?\\n2. **Embracing Accountability**: What are the key principles of embracing accountability in personal and professional life?\\n3. **Compound Interest**: Can you explain the role of compound interest in achieving long-term success?\\n4. **Subjects of Study**: What subjects should I focus on studying to improve my chances of building wealth and finding happiness?\\n5. **Personal Hourly Rate**: How do you recommend setting an aspirational personal hourly rate and managing tasks accordingly?\\n6. **Work Focus**: What is the importance of focusing on who you work with and what you work on, rather than just how hard you work?\\n\\nThese questions are tailored to tap into their unique insights and areas of expertise, providing valuable advice on technology, wealth building, and personal development.', sources=[ToolOutput(content='When engaging with Balaji Srinivasan, consider asking questions that delve into his areas of expertise, such as:\\n\\n1. What strategic considerations should be made when evaluating emerging technology platforms like cryptocurrency and augmented reality (AR) glasses?\\n2. How can one effectively identify and leverage new opportunities in the tech industry?\\n3. What are the key factors to think about when assessing the potential of a new platform to solve significant pain points for users?\\n4. How do political dynamics influence the perception and acceptance of truth in society?\\n5. What strategies can individuals use to navigate political landscapes while maintaining integrity and independence in their thinking?\\n\\nThese questions align with his insights on thinking independently, identifying opportunities, and understanding the interplay between technology, politics, and societal truths.', tool_name='words-of-senpai-info', raw_input={'args': (), 'kwargs': {'query': 'What kind of questions should I ask Balaji Srinivasan?', 'filter_key_list': ['author'], 'filter_value_list': ['Balaji Srinivasan']}}, raw_output='When engaging with Balaji Srinivasan, consider asking questions that delve into his areas of expertise, such as:\\n\\n1. What strategic considerations should be made when evaluating emerging technology platforms like cryptocurrency and augmented reality (AR) glasses?\\n2. How can one effectively identify and leverage new opportunities in the tech industry?\\n3. What are the key factors to think about when assessing the potential of a new platform to solve significant pain points for users?\\n4. How do political dynamics influence the perception and acceptance of truth in society?\\n5. What strategies can individuals use to navigate political landscapes while maintaining integrity and independence in their thinking?\\n\\nThese questions align with his insights on thinking independently, identifying opportunities, and understanding the interplay between technology, politics, and societal truths.', is_error=False), ToolOutput(content='You should ask Naval Ravikant questions that delve into how to build wealth and achieve happiness. Specifically, questions about developing specific knowledge, embracing accountability, and understanding the power of compound interest in life would be valuable. Additionally, inquiring about the subjects he recommends studying, such as microeconomics, game theory, psychology, persuasion, productivity, and how to set up effective personal systems for success, would also be insightful. For example, you could ask:\\n\\n1. How can I develop specific knowledge that will help me build wealth and achieve happiness?\\n2. What are the key principles of embracing accountability in personal and professional life?\\n3. Can you explain the role of compound interest in achieving long-term success?\\n4. What subjects should I focus on studying to improve my chances of building wealth and finding happiness?\\n5. How do you recommend setting an aspirational personal hourly rate and managing tasks accordingly?\\n6. What is the importance of focusing on who you work with and what you work on, rather than just how hard you work?', tool_name='words-of-senpai-info', raw_input={'args': (), 'kwargs': {'query': 'What kind of questions should I ask Naval Ravikant?', 'filter_key_list': ['author'], 'filter_value_list': ['Naval Ravikant']}}, raw_output='You should ask Naval Ravikant questions that delve into how to build wealth and achieve happiness. Specifically, questions about developing specific knowledge, embracing accountability, and understanding the power of compound interest in life would be valuable. Additionally, inquiring about the subjects he recommends studying, such as microeconomics, game theory, psychology, persuasion, productivity, and how to set up effective personal systems for success, would also be insightful. For example, you could ask:\\n\\n1. How can I develop specific knowledge that will help me build wealth and achieve happiness?\\n2. What are the key principles of embracing accountability in personal and professional life?\\n3. Can you explain the role of compound interest in achieving long-term success?\\n4. What subjects should I focus on studying to improve my chances of building wealth and finding happiness?\\n5. How do you recommend setting an aspirational personal hourly rate and managing tasks accordingly?\\n6. What is the importance of focusing on who you work with and what you work on, rather than just how hard you work?', is_error=False)], source_nodes=[], is_dummy_stream=False)"
      ]
     },
     "execution_count": 58,
     "metadata": {},
     "output_type": "execute_result"
    }
   ],
   "source": [
    "agent.chat(\"What kind of questions should I ask Balaji Srinivasan and Naval Ravikant?\")"
   ]
  },
  {
   "cell_type": "markdown",
   "metadata": {},
   "source": [
    "### Lower-level API\n",
    "\n",
    "<img src=\"https://docs.llamaindex.ai/en/stable/_static/agents/agent_step_execute.png\" width=\"70%\">\n",
    "\n",
    "\n",
    "LlamaIndex \"agents\" are composed of `AgentRunner` objects that interact with `AgentWorkers`:\n",
    "\n",
    "- **[`AgentRunner`](https://github.com/run-llama/llama_index/blob/157309347b85ececd32630906a356a64bc319282/llama-index-core/llama_index/core/agent/runner/base.py#L200)**: These are the orchestrators that manage state (including conversational memory), create and maintain tasks, execute steps within each task, and provide the high-level interface for user interaction.\n",
    "\n",
    "- **[`AgentWorker`](https://github.com/run-llama/llama_index/blob/157309347b85ececd32630906a356a64bc319282/llama-index-legacy/llama_index/legacy/agent/types.py#L190)**: These control the step-wise execution of a task. Given an input step, an `AgentWorker` is responsible for generating the next step. They can be initialized with parameters and act on state passed down from the `Task` or `TaskStep` objects but do not inherently store state themselves. The outer `AgentRunner` calls an `AgentWorker` and collects/aggregates the results.\n"
   ]
  },
  {
   "cell_type": "code",
   "execution_count": 67,
   "metadata": {},
   "outputs": [],
   "source": [
    "from llama_index.core.agent import FunctionCallingAgentWorker\n",
    "from llama_index.core.agent import AgentRunner\n",
    "\n",
    "agent_worker = FunctionCallingAgentWorker.from_tools(\n",
    "    [auto_retrieve_tool], \n",
    "    llm=Settings.llm, \n",
    "    verbose=True\n",
    ")\n",
    "agent_runner = AgentRunner(agent_worker, verbose=True)"
   ]
  },
  {
   "cell_type": "code",
   "execution_count": 68,
   "metadata": {},
   "outputs": [
    {
     "name": "stdout",
     "output_type": "stream",
     "text": [
      "> Running step 46ddad01-848c-4857-9e6f-84aaccffc39e. Step input: In what ways do Naval and Nassim think differently about the risk and accountability?\n",
      "Added user message to memory: In what ways do Naval and Nassim think differently about the risk and accountability?\n",
      "=== Calling Function ===\n",
      "Calling function: words-of-senpai-info with args: {\"query\": \"risk\", \"filter_key_list\": [\"author\"], \"filter_value_list\": [\"Naval Ravikant\"]}\n",
      "=== Function Output ===\n",
      "Risk, in the context of evaluating decision-making processes, can significantly impact outcomes. For instance, if there is a possibility of ruin, traditional cost-benefit analyses become invalid because they cannot account for irreversible consequences. An example is playing Russian roulette; despite a high chance of immediate gain, the ultimate risk of fatality makes the expected return non-computable. In the realm of new tech businesses, regulatory risks are a critical factor, often outweighing technological barriers. Antiquated regulations can hold back significant value, as seen with the disruption caused by companies like Uber and Airbnb, which overcame outdated laws to unlock billions in equity value.\n",
      "=== Calling Function ===\n",
      "Calling function: words-of-senpai-info with args: {\"query\": \"accountability\", \"filter_key_list\": [\"author\"], \"filter_value_list\": [\"Naval Ravikant\"]}\n",
      "=== Function Output ===\n",
      "Accountability involves having a personal stake in the outcome, where individuals are exposed to both the potential rewards and risks of their decisions. In the context of building a company, it means that the company's name is tied to high-risk, high-reward efforts, and people within the company devote their lives to it, taking on significant personal risk. This creates a scenario where there is massive accountability, ensuring that the individuals involved are motivated to succeed and bear the consequences of their actions.\n",
      "=== Calling Function ===\n",
      "Calling function: words-of-senpai-info with args: {\"query\": \"risk\", \"filter_key_list\": [\"author\"], \"filter_value_list\": [\"Nassim Nicholas Taleb\"]}\n",
      "=== Function Output ===\n",
      "Risk, particularly in the context of cost-benefit analyses and regulatory challenges, can be multifaceted. For instance, when there is a possibility of ruin, as illustrated by an extreme example like Russian roulette, standard cost-benefit analyses become unreliable because the potential for irreversible negative outcomes makes the expected return non-computable. On the other hand, for new tech businesses, regulatory risks arise from outdated laws that can inhibit innovation and growth, as seen in fields like genomics or drone technology. These barriers can prevent the realization of significant value, much like how outdated taxi and hotel regulations previously limited the potential of companies like Uber and Airbnb. Identifying and navigating these regulatory risks is crucial for unlocking new opportunities and achieving success in the tech industry.\n",
      "=== Calling Function ===\n",
      "Calling function: words-of-senpai-info with args: {\"query\": \"accountability\", \"filter_key_list\": [\"author\"], \"filter_value_list\": [\"Nassim Nicholas Taleb\"]}\n",
      "=== Function Output ===\n",
      "Accountability, in the context provided, refers to the concept of individuals or entities being responsible for the outcomes of their actions, particularly when they have a personal stake in those outcomes. In Nassim Nicholas Taleb's book \"Skin in the Game,\" accountability is tied to the idea of having a share of the harm and paying a penalty if something goes wrong, ensuring that one's incentives and risks are aligned. In Naval Ravikant's \"The Almanack of Naval Ravikant,\" accountability involves taking significant risks and being highly responsible for the success or failure of a venture, where the company's name and individuals' reputations are on the line.\n",
      "> Running step 5f04843a-c7f9-4d40-aea1-ced3bdedd83a. Step input: None\n",
      "=== LLM Response ===\n",
      "Naval Ravikant and Nassim Nicholas Taleb offer nuanced perspectives on risk and accountability, each emphasizing different aspects of these concepts:\n",
      "\n",
      "### Naval Ravikant on Risk:\n",
      "- **Technological and Regulatory Risks**: Naval highlights the importance of regulatory risks, especially in the context of new tech businesses. He points out that outdated regulations can be significant barriers to innovation, as seen with companies like Uber and Airbnb. Despite technological readiness, the primary risks often come from navigating and overcoming these regulatory hurdles.\n",
      "- **Irreversible Consequences**: Naval also acknowledges that in high-stakes situations, such as playing Russian roulette, traditional cost-benefit analyses fail because they can't account for the irreversible negative outcomes.\n",
      "\n",
      "### Nassim Nicholas Taleb on Risk:\n",
      "- **Possibility of Ruin**: Taleb emphasizes the concept of \"ruin,\" where the potential for catastrophic failure makes standard cost-benefit analyses unreliable. He uses extreme examples like Russian roulette to illustrate situations where the risk of irreversible negative outcomes invalidates traditional decision-making frameworks.\n",
      "- **Regulatory Barriers in Tech**: Similar to Naval, Taleb discusses regulatory risks in the tech industry, pointing out that outdated laws can inhibit innovation and growth. He underscores the importance of identifying and navigating these regulatory barriers to unlock opportunities.\n",
      "\n",
      "### Naval Ravikant on Accountability:\n",
      "- **Personal Stake and Motivation**: Naval believes that accountability involves having a substantial personal stake in the outcome. In the context of building a company, this means that individuals are deeply invested, taking on significant personal risks, which ensures they are highly motivated to succeed and bear the consequences of their actions.\n",
      "\n",
      "### Nassim Nicholas Taleb on Accountability:\n",
      "- **Skin in the Game**: Taleb's concept of accountability is closely tied to his idea of \"Skin in the Game,\" where individuals must have a share of the harm and pay a penalty if things go wrong. This alignment of incentives and risks ensures that decision-makers are responsible for the outcomes of their actions.\n",
      "\n",
      "### Key Differences:\n",
      "- **Focus on Regulatory Risks**: While both thinkers acknowledge regulatory risks, Naval focuses more on the modern tech industry, whereas Taleb provides a broader critique of how outdated regulations can stifle innovation.\n",
      "- **Accountability Mechanisms**: Naval emphasizes personal investment and motivation within ventures, whereas Taleb stresses the importance of having a direct stake in the outcomes, ensuring that one's incentives are aligned with the risks.\n",
      "\n",
      "In summary, both Naval and Taleb offer valuable insights into risk and accountability, with Naval focusing on regulatory challenges in tech and personal stakes in ventures, and Taleb emphasizing the critical importance of avoiding ruin and ensuring aligned incentives through skin in the game.\n"
     ]
    },
    {
     "data": {
      "text/plain": [
       "AgentChatResponse(response='assistant: Naval Ravikant and Nassim Nicholas Taleb offer nuanced perspectives on risk and accountability, each emphasizing different aspects of these concepts:\\n\\n### Naval Ravikant on Risk:\\n- **Technological and Regulatory Risks**: Naval highlights the importance of regulatory risks, especially in the context of new tech businesses. He points out that outdated regulations can be significant barriers to innovation, as seen with companies like Uber and Airbnb. Despite technological readiness, the primary risks often come from navigating and overcoming these regulatory hurdles.\\n- **Irreversible Consequences**: Naval also acknowledges that in high-stakes situations, such as playing Russian roulette, traditional cost-benefit analyses fail because they can\\'t account for the irreversible negative outcomes.\\n\\n### Nassim Nicholas Taleb on Risk:\\n- **Possibility of Ruin**: Taleb emphasizes the concept of \"ruin,\" where the potential for catastrophic failure makes standard cost-benefit analyses unreliable. He uses extreme examples like Russian roulette to illustrate situations where the risk of irreversible negative outcomes invalidates traditional decision-making frameworks.\\n- **Regulatory Barriers in Tech**: Similar to Naval, Taleb discusses regulatory risks in the tech industry, pointing out that outdated laws can inhibit innovation and growth. He underscores the importance of identifying and navigating these regulatory barriers to unlock opportunities.\\n\\n### Naval Ravikant on Accountability:\\n- **Personal Stake and Motivation**: Naval believes that accountability involves having a substantial personal stake in the outcome. In the context of building a company, this means that individuals are deeply invested, taking on significant personal risks, which ensures they are highly motivated to succeed and bear the consequences of their actions.\\n\\n### Nassim Nicholas Taleb on Accountability:\\n- **Skin in the Game**: Taleb\\'s concept of accountability is closely tied to his idea of \"Skin in the Game,\" where individuals must have a share of the harm and pay a penalty if things go wrong. This alignment of incentives and risks ensures that decision-makers are responsible for the outcomes of their actions.\\n\\n### Key Differences:\\n- **Focus on Regulatory Risks**: While both thinkers acknowledge regulatory risks, Naval focuses more on the modern tech industry, whereas Taleb provides a broader critique of how outdated regulations can stifle innovation.\\n- **Accountability Mechanisms**: Naval emphasizes personal investment and motivation within ventures, whereas Taleb stresses the importance of having a direct stake in the outcomes, ensuring that one\\'s incentives are aligned with the risks.\\n\\nIn summary, both Naval and Taleb offer valuable insights into risk and accountability, with Naval focusing on regulatory challenges in tech and personal stakes in ventures, and Taleb emphasizing the critical importance of avoiding ruin and ensuring aligned incentives through skin in the game.', sources=[ToolOutput(content='Risk, in the context of evaluating decision-making processes, can significantly impact outcomes. For instance, if there is a possibility of ruin, traditional cost-benefit analyses become invalid because they cannot account for irreversible consequences. An example is playing Russian roulette; despite a high chance of immediate gain, the ultimate risk of fatality makes the expected return non-computable. In the realm of new tech businesses, regulatory risks are a critical factor, often outweighing technological barriers. Antiquated regulations can hold back significant value, as seen with the disruption caused by companies like Uber and Airbnb, which overcame outdated laws to unlock billions in equity value.', tool_name='words-of-senpai-info', raw_input={'args': (), 'kwargs': {'query': 'risk', 'filter_key_list': ['author'], 'filter_value_list': ['Naval Ravikant']}}, raw_output='Risk, in the context of evaluating decision-making processes, can significantly impact outcomes. For instance, if there is a possibility of ruin, traditional cost-benefit analyses become invalid because they cannot account for irreversible consequences. An example is playing Russian roulette; despite a high chance of immediate gain, the ultimate risk of fatality makes the expected return non-computable. In the realm of new tech businesses, regulatory risks are a critical factor, often outweighing technological barriers. Antiquated regulations can hold back significant value, as seen with the disruption caused by companies like Uber and Airbnb, which overcame outdated laws to unlock billions in equity value.', is_error=False), ToolOutput(content=\"Accountability involves having a personal stake in the outcome, where individuals are exposed to both the potential rewards and risks of their decisions. In the context of building a company, it means that the company's name is tied to high-risk, high-reward efforts, and people within the company devote their lives to it, taking on significant personal risk. This creates a scenario where there is massive accountability, ensuring that the individuals involved are motivated to succeed and bear the consequences of their actions.\", tool_name='words-of-senpai-info', raw_input={'args': (), 'kwargs': {'query': 'accountability', 'filter_key_list': ['author'], 'filter_value_list': ['Naval Ravikant']}}, raw_output=\"Accountability involves having a personal stake in the outcome, where individuals are exposed to both the potential rewards and risks of their decisions. In the context of building a company, it means that the company's name is tied to high-risk, high-reward efforts, and people within the company devote their lives to it, taking on significant personal risk. This creates a scenario where there is massive accountability, ensuring that the individuals involved are motivated to succeed and bear the consequences of their actions.\", is_error=False), ToolOutput(content='Risk, particularly in the context of cost-benefit analyses and regulatory challenges, can be multifaceted. For instance, when there is a possibility of ruin, as illustrated by an extreme example like Russian roulette, standard cost-benefit analyses become unreliable because the potential for irreversible negative outcomes makes the expected return non-computable. On the other hand, for new tech businesses, regulatory risks arise from outdated laws that can inhibit innovation and growth, as seen in fields like genomics or drone technology. These barriers can prevent the realization of significant value, much like how outdated taxi and hotel regulations previously limited the potential of companies like Uber and Airbnb. Identifying and navigating these regulatory risks is crucial for unlocking new opportunities and achieving success in the tech industry.', tool_name='words-of-senpai-info', raw_input={'args': (), 'kwargs': {'query': 'risk', 'filter_key_list': ['author'], 'filter_value_list': ['Nassim Nicholas Taleb']}}, raw_output='Risk, particularly in the context of cost-benefit analyses and regulatory challenges, can be multifaceted. For instance, when there is a possibility of ruin, as illustrated by an extreme example like Russian roulette, standard cost-benefit analyses become unreliable because the potential for irreversible negative outcomes makes the expected return non-computable. On the other hand, for new tech businesses, regulatory risks arise from outdated laws that can inhibit innovation and growth, as seen in fields like genomics or drone technology. These barriers can prevent the realization of significant value, much like how outdated taxi and hotel regulations previously limited the potential of companies like Uber and Airbnb. Identifying and navigating these regulatory risks is crucial for unlocking new opportunities and achieving success in the tech industry.', is_error=False), ToolOutput(content='Accountability, in the context provided, refers to the concept of individuals or entities being responsible for the outcomes of their actions, particularly when they have a personal stake in those outcomes. In Nassim Nicholas Taleb\\'s book \"Skin in the Game,\" accountability is tied to the idea of having a share of the harm and paying a penalty if something goes wrong, ensuring that one\\'s incentives and risks are aligned. In Naval Ravikant\\'s \"The Almanack of Naval Ravikant,\" accountability involves taking significant risks and being highly responsible for the success or failure of a venture, where the company\\'s name and individuals\\' reputations are on the line.', tool_name='words-of-senpai-info', raw_input={'args': (), 'kwargs': {'query': 'accountability', 'filter_key_list': ['author'], 'filter_value_list': ['Nassim Nicholas Taleb']}}, raw_output='Accountability, in the context provided, refers to the concept of individuals or entities being responsible for the outcomes of their actions, particularly when they have a personal stake in those outcomes. In Nassim Nicholas Taleb\\'s book \"Skin in the Game,\" accountability is tied to the idea of having a share of the harm and paying a penalty if something goes wrong, ensuring that one\\'s incentives and risks are aligned. In Naval Ravikant\\'s \"The Almanack of Naval Ravikant,\" accountability involves taking significant risks and being highly responsible for the success or failure of a venture, where the company\\'s name and individuals\\' reputations are on the line.', is_error=False)], source_nodes=[], is_dummy_stream=False)"
      ]
     },
     "execution_count": 68,
     "metadata": {},
     "output_type": "execute_result"
    }
   ],
   "source": [
    "agent_runner.chat(\"In what ways do Naval and Nassim think differently about the risk and accountability?\")"
   ]
  },
  {
   "cell_type": "code",
   "execution_count": null,
   "metadata": {},
   "outputs": [],
   "source": []
  }
 ],
 "metadata": {
  "kernelspec": {
   "display_name": "lil_llama_index",
   "language": "python",
   "name": "python3"
  },
  "language_info": {
   "codemirror_mode": {
    "name": "ipython",
    "version": 3
   },
   "file_extension": ".py",
   "mimetype": "text/x-python",
   "name": "python",
   "nbconvert_exporter": "python",
   "pygments_lexer": "ipython3",
   "version": "3.10.14"
  }
 },
 "nbformat": 4,
 "nbformat_minor": 2
}
